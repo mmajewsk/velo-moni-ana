{
 "cells": [
  {
   "cell_type": "markdown",
   "metadata": {},
   "source": [
    "# Utility algorithms:\n",
    "\n",
    "### Recognize evolutions of the same clusers\n",
    "\n",
    "**Metod:** Cosine simmilarity matrix, cluster alignment using local threshold\n",
    "\n",
    "**Parameters:**\n",
    "* Position\n",
    "* Point count / avg\n",
    "* Blair-Bliss (density) \n",
    "* Correlation coeffitience (roundness) \n",
    "* Linear trend direction \n",
    "\n",
    "\n",
    "# Phase 1: Outlier/novelty detection on sensors\n",
    "\n",
    "### For whole map generate scores for each step's:\n",
    "\n",
    "1) Novelty: In comparison to previous measurements from same calibration \n",
    "\n",
    "**Metod:**\n",
    "    Streaming RRCF\n",
    "\n",
    "**Parameters:**\n",
    "* New points count / avg\n",
    "* Lost points count / avg\n",
    "* Number of new clusters / avg (Use cluster recognition algorithm)\n",
    "* Number of lost clusters / avg\n",
    "* New points in clusters count / avg\n",
    "* Lost points in clusters count / avg\n",
    "\n",
    "2) Outlierness : In comparison to other sensors / previous calibrations data\n",
    "\n",
    "**Metod:** Batch RRCF\n",
    "\n",
    "**Parameters:**\n",
    "* Directional density imbalance (Steepness of maximum imbalance axis)\n",
    "* Local density imbalance (Standard deviation of KNN distance sum)\n",
    "* Total points count / total\n",
    "* Number of clusters / avg\n",
    "* Points in clusters / avg\n",
    "\n",
    "# Phase 2: Sensor noise progression forecasting\n",
    "\n",
    "\n",
    "### For each sensor forecast a set of measurements:\n",
    "\n",
    "**Metod:** Holt-Winters\n",
    "\n",
    "**Parameters:**\n",
    "* Directional density imbalance (Steepness of maximum imbalance axis)\n",
    "* Local density imbalance (Standard deviation of KNN distance sum)\n",
    "* Total points count\n",
    "* Number of clusters\n",
    "* Points in clusters\n",
    "\n"
   ]
  },
  {
   "cell_type": "code",
   "execution_count": 1,
   "metadata": {},
   "outputs": [
    {
     "name": "stdout",
     "output_type": "stream",
     "text": [
      "Requirement already satisfied: rrcf in /home/mwm/anaconda3/lib/python3.9/site-packages (0.4.3)\r\n",
      "Requirement already satisfied: numpy in /home/mwm/anaconda3/lib/python3.9/site-packages (from rrcf) (1.22.1)\r\n"
     ]
    }
   ],
   "source": [
    "!pip install rrcf"
   ]
  },
  {
   "cell_type": "code",
   "execution_count": 2,
   "metadata": {},
   "outputs": [],
   "source": [
    "import numpy as np\n",
    "import pandas as pd\n",
    "import matplotlib.pyplot as plt\n",
    "import seaborn as sns\n",
    "from sklearn.datasets import make_blobs\n",
    "import rrcf\n",
    "from sklearn.cluster import DBSCAN\n",
    "from sklearn.linear_model import LinearRegression"
   ]
  },
  {
   "cell_type": "markdown",
   "metadata": {},
   "source": [
    "# Phase 0\n",
    "\n",
    "\n",
    "### Simulated data generation"
   ]
  },
  {
   "cell_type": "code",
   "execution_count": 3,
   "metadata": {},
   "outputs": [],
   "source": [
    "index = 0\n",
    "lines = []\n",
    "blobs = []\n",
    "\n",
    "D_MIN = 10\n",
    "\n",
    "def make_line(h, w, line_len):\n",
    "    alpha = np.random.uniform(0, np.pi)\n",
    "    fun = np.poly1d([np.tan(alpha),np.random.randint(0, h)])\n",
    "    start_X = np.random.randint(0, w)\n",
    "    # X = np.uniform(start_X, start_X + line_len*np.cos(alpha), size=line_len)\n",
    "    X = np.linspace(start_X, start_X + line_len*np.cos(alpha), num=line_len)\n",
    "    Y = fun(X)\n",
    "    return np.vstack((X%w, Y%h)).T.astype(int)"
   ]
  },
  {
   "cell_type": "code",
   "execution_count": 4,
   "metadata": {},
   "outputs": [
    {
     "data": {
      "text/plain": [
       "array([[249, 230],\n",
       "       [249, 231],\n",
       "       [249, 232],\n",
       "       [250, 233],\n",
       "       [250, 234],\n",
       "       [251, 236]])"
      ]
     },
     "execution_count": 4,
     "metadata": {},
     "output_type": "execute_result"
    }
   ],
   "source": [
    "random_line = make_line(256, 256, np.abs(np.random.randint(40)))\n",
    "random_line"
   ]
  },
  {
   "cell_type": "code",
   "execution_count": 5,
   "metadata": {},
   "outputs": [],
   "source": [
    "one_line_map=np.zeros((256,256))\n",
    "amplifying_factor=300\n",
    "for x, y in random_line:\n",
    "    one_line_map[x, y] = amplifying_factor"
   ]
  },
  {
   "cell_type": "code",
   "execution_count": 6,
   "metadata": {},
   "outputs": [],
   "source": [
    "one_line_map=np.zeros((256,256))\n",
    "amplifying_factor=300\n",
    "one_line_map[random_line[:,0], random_line[:,1]] = amplifying_factor"
   ]
  },
  {
   "cell_type": "code",
   "execution_count": 7,
   "metadata": {},
   "outputs": [
    {
     "data": {
      "text/plain": [
       "<matplotlib.image.AxesImage at 0x7fdb3660c2e0>"
      ]
     },
     "execution_count": 7,
     "metadata": {},
     "output_type": "execute_result"
    },
    {
     "data": {
      "image/png": "[encoded data removed]",
      "text/plain": [
       "<Figure size 432x288 with 1 Axes>"
      ]
     },
     "metadata": {
      "needs_background": "light"
     },
     "output_type": "display_data"
    }
   ],
   "source": [
    "plt.imshow(one_line_map)"
   ]
  },
  {
   "cell_type": "code",
   "execution_count": 8,
   "metadata": {},
   "outputs": [],
   "source": [
    "def make_blob(n_samples, avg_std = 5, size=256):\n",
    "    return make_blobs(n_samples,\n",
    "                      cluster_std=np.abs(np.random.randn()*5+1), \n",
    "                      centers=1, \n",
    "                      center_box=(0,size*0.7))[0].astype(int)"
   ]
  },
  {
   "cell_type": "code",
   "execution_count": 9,
   "metadata": {},
   "outputs": [
    {
     "data": {
      "text/plain": [
       "array([[ 85,  98,  93,  88,  90,  97, 102, 102,  95,  93,  98, 100],\n",
       "       [102,  93, 101,  91,  97,  88,  87,  95,  94,  82,  95,  95]])"
      ]
     },
     "execution_count": 9,
     "metadata": {},
     "output_type": "execute_result"
    }
   ],
   "source": [
    "random_blob = make_blob(n_samples=np.abs(np.random.randint(40)),size=256)\n",
    "random_blob.T"
   ]
  },
  {
   "cell_type": "code",
   "execution_count": 10,
   "metadata": {},
   "outputs": [
    {
     "data": {
      "text/plain": [
       "<matplotlib.image.AxesImage at 0x7fdb344fa9d0>"
      ]
     },
     "execution_count": 10,
     "metadata": {},
     "output_type": "execute_result"
    },
    {
     "data": {
      "image/png": "[encoded data removed]",
      "text/plain": [
       "<Figure size 432x288 with 1 Axes>"
      ]
     },
     "metadata": {
      "needs_background": "light"
     },
     "output_type": "display_data"
    }
   ],
   "source": [
    "one_blob_map=np.zeros((256,256))\n",
    "amplifying_factor=300\n",
    "one_blob_map[random_blob[:,0], random_blob[:,1]] = amplifying_factor\n",
    "plt.imshow(one_blob_map)"
   ]
  },
  {
   "cell_type": "code",
   "execution_count": 11,
   "metadata": {},
   "outputs": [
    {
     "data": {
      "text/plain": [
       "<matplotlib.image.AxesImage at 0x7fdb3446f130>"
      ]
     },
     "execution_count": 11,
     "metadata": {},
     "output_type": "execute_result"
    },
    {
     "data": {
      "image/png": "[encoded data removed]",
      "text/plain": [
       "<Figure size 432x288 with 1 Axes>"
      ]
     },
     "metadata": {
      "needs_background": "light"
     },
     "output_type": "display_data"
    }
   ],
   "source": [
    "randmap = np.maximum(np.zeros((256,256)), np.random.binomial(n=1, p=0.0006,size=(256,256))*amplifying_factor)\n",
    "plt.imshow(randmap)"
   ]
  },
  {
   "cell_type": "code",
   "execution_count": 12,
   "metadata": {},
   "outputs": [
    {
     "data": {
      "text/plain": [
       "<matplotlib.image.AxesImage at 0x7fdb34448d90>"
      ]
     },
     "execution_count": 12,
     "metadata": {},
     "output_type": "execute_result"
    },
    {
     "data": {
      "image/png": "[encoded data removed]",
      "text/plain": [
       "<Figure size 432x288 with 1 Axes>"
      ]
     },
     "metadata": {
      "needs_background": "light"
     },
     "output_type": "display_data"
    }
   ],
   "source": [
    "randmap = np.random.binomial(n=1, p=0.8,size=(256,256))\n",
    "plt.imshow(randmap)"
   ]
  },
  {
   "cell_type": "code",
   "execution_count": 13,
   "metadata": {},
   "outputs": [],
   "source": [
    "def dice_roll():\n",
    "    return np.random.rand()\n",
    "\n",
    "class MaskMapGenerator:\n",
    "\n",
    "    def __init__(self,starting_map=None, gaussian_blob_prob=0.5, line_prob=0.2, amplifying_factor=300):\n",
    "        self.current_map = np.zeros((256,256)) if starting_map is None else starting_map\n",
    "        self.blobs = {}\n",
    "        self.lines = {}\n",
    "        self.total_iterator = 0\n",
    "        self.gauss_prob = gaussian_blob_prob\n",
    "        self.line_prob = line_prob\n",
    "    \n",
    "    def generate(self, n=100):\n",
    "        for i in range(n):\n",
    "            \n",
    "            if dice_roll() < self.gauss_prob:\n",
    "                new_blob = make_blob(n_samples=np.abs(np.random.randint(40)),size=256)\n",
    "                self.current_map[new_blob[:,0], new_blob[:,1]] = amplifying_factor\n",
    "                self.blobs[self.total_iterator] = new_blob\n",
    "            elif dice_roll() < self.line_prob:\n",
    "                new_line = make_line(256, 256, np.abs(np.random.randint(40)))\n",
    "                self.current_map[new_line[:,0], new_line[:,1]] = amplifying_factor\n",
    "                self.lines[self.total_iterator] = new_line\n",
    "            else:\n",
    "                self.current_map = np.maximum(self.current_map, np.random.binomial(n=1, p=0.0006,size=(256,256))*amplifying_factor)\n",
    "            self.current_map *= np.random.binomial(n=1, p=0.8,size=(256,256))\n",
    "            yield self.current_map\n",
    "            self.total_iterator += 1\n",
    "\n",
    "    "
   ]
  },
  {
   "cell_type": "code",
   "execution_count": 14,
   "metadata": {},
   "outputs": [
    {
     "data": {
      "text/plain": [
       "<matplotlib.image.AxesImage at 0x7fdb344075b0>"
      ]
     },
     "execution_count": 14,
     "metadata": {},
     "output_type": "execute_result"
    },
    {
     "data": {
      "image/png": "[encoded data removed]",
      "text/plain": [
       "<Figure size 720x432 with 2 Axes>"
      ]
     },
     "metadata": {
      "needs_background": "light"
     },
     "output_type": "display_data"
    }
   ],
   "source": [
    "\n",
    "D = C = None\n",
    "n = 0\n",
    "m = 40\n",
    "mgen = MaskMapGenerator(None, 0.5, 0.2)\n",
    "for  i in mgen.generate(m):\n",
    "    n += 1\n",
    "    if n == m-4:\n",
    "     C = i\n",
    "    D = i\n",
    "    \n",
    "fig, axis = plt.subplots(nrows=1, ncols=2, figsize=(10,6))\n",
    "\n",
    "axis[0].imshow(C)\n",
    "axis[1].imshow(D)"
   ]
  },
  {
   "cell_type": "markdown",
   "metadata": {},
   "source": [
    "### Utility algorithms"
   ]
  },
  {
   "cell_type": "code",
   "execution_count": 15,
   "metadata": {},
   "outputs": [],
   "source": [
    "def get_clusters(map_matrix, clustering_algorithm):\n",
    "    map_points = np.array(\n",
    "                    sorted(list(\n",
    "                        zip(np.where(map_matrix != 0)[0],\n",
    "                            np.where(map_matrix != 0)[1])\n",
    "                    )))\n",
    "    \n",
    "    if len(map_points) == 0:\n",
    "        return []\n",
    "    \n",
    "    clustering_algorithm.fit(map_points)\n",
    "    clustered_points = np.hstack((\n",
    "                                clustering_algorithm.labels_.reshape(-1,1),\n",
    "                                map_points\n",
    "                                ))\n",
    "    return clustered_points"
   ]
  },
  {
   "cell_type": "code",
   "execution_count": 104,
   "metadata": {},
   "outputs": [],
   "source": [
    "def measure_clusters(clustered_points):\n",
    "    clusters=[]\n",
    "    cluster_centroids=[]\n",
    "    for cluster_number in np.sort(\n",
    "                            np.unique(\n",
    "                                clustered_points[:, 0]\n",
    "                            )):\n",
    "        if cluster_number != -1:\n",
    "            \n",
    "            points_of_cluster = clustered_points[np.where(clustered_points[:,0] == cluster_number), 1:] \n",
    "            points_of_cluster = np.squeeze(points_of_cluster)\n",
    "            position, cluster_metrics = get_metrics(points_of_cluster)\n",
    "            clusters.append(cluster_metrics)\n",
    "            cluster_centroids.append(position)\n",
    "    return np.array(cluster_centroids), np.array(clusters)\n",
    "\n",
    "\n",
    "def get_metrics(cluster_points):\n",
    "    #returns:\n",
    "    # Position\n",
    "    # Point count / avg\n",
    "    # Blair-Bliss (density) \n",
    "    # Correlation coeffitience (roundness) \n",
    "    # Linear trend direction \n",
    "    position = cluster_points.mean(0)\n",
    "    \n",
    "    point_count = cluster_points.shape[0] / 100\n",
    "    density = np.sqrt(\n",
    "                np.sum(\n",
    "                    (cluster_points - cluster_points.mean(0))**2, 1)\n",
    "                ).mean()\n",
    "    roundness = np.abs(np.corrcoef(cluster_points.T + np.random.normal(scale=1e-8 ,size=cluster_points.T.shape))[0,1])\n",
    "    direction = np.arctan(LinearRegression() \\\n",
    "                .fit(\n",
    "                    X = cluster_points[:, 0].reshape(-1,1), \n",
    "                    y = cluster_points[:, 1].reshape(-1,1)) \\\n",
    "                .coef_[0,0])\n",
    "    return position, np.hstack((point_count,\n",
    "                                density,\n",
    "                                roundness,\n",
    "                                direction))\n",
    "\n",
    "    \n",
    "def l2_axis_norm(M, axis=1):\n",
    "    return (np.sum(np.abs(M)**2,axis=axis)**(1./2)\n",
    "           ).reshape(-1,1)\n",
    "\n",
    "\n",
    "def bi_directional_softmax(M):\n",
    "    row_wise = np.exp(M) / np.sum(np.exp(M), axis=0).reshape(1,-1)\n",
    "    column_wise = np.exp(M) / np.sum(np.exp(M), axis=1).reshape(-1,1)\n",
    "    return (2*row_wise*column_wise)/(row_wise + column_wise)\n",
    "\n",
    "def find_strong_max(M):\n",
    "    maxed_M = np.zeros_like(M)\n",
    "    for row_idx, row in enumerate(M):\n",
    "        for col_idx, el in enumerate(row):\n",
    "            if (el == np.max(M, axis=1)[row_idx]) and (el == np.max(M, axis=0)[col_idx]) and (el > 0.3):\n",
    "                maxed_M[row_idx, col_idx] = 1\n",
    "            else:\n",
    "                maxed_M[row_idx, col_idx] = 0\n",
    "    return maxed_M\n",
    "\n",
    "        \n",
    "def cluster_simmilarity(points_current, points_prev):\n",
    "    curr_centroids, curr_map_metrics = measure_clusters(points_current)\n",
    "    prev_centroids, prev_map_metrics = measure_clusters(points_prev)\n",
    "    if len(prev_centroids) == 0 and len(curr_centroids) != 0:\n",
    "        return np.zeros_like(curr_centroids), (None, None)\n",
    "    elif len(curr_centroids) == 0 and len(prev_centroids) != 0:\n",
    "        return np.zeros_like(prev_centroids), (None, None)\n",
    "    elif len(prev_centroids) == 0 and len(curr_centroids) == 0:\n",
    "        return None, (None, None)\n",
    "    \n",
    "    \n",
    "    norm_matrix = l2_axis_norm(curr_map_metrics) @ (l2_axis_norm(prev_map_metrics)).T\n",
    "    shape_simmilarity_matrix = curr_map_metrics @ prev_map_metrics.T * (norm_matrix**-1)\n",
    "    print(shape_simmilarity_matrix)\n",
    "    partstep = shape_simmilarity_matrix/(np.std(shape_simmilarity_matrix))+0.01\n",
    "    print(\"heeere\")\n",
    "    print(partstep)\n",
    "    shape_simmilarity_matrix = bi_directional_softmax(partstep)\n",
    "    print(shape_simmilarity_matrix)\n",
    "    \n",
    "    distance_matrix = np.sqrt(np.abs(\n",
    "                                 np.sum(curr_centroids*curr_centroids, axis=1).reshape(-1,1) \n",
    "                               - 2*(curr_centroids @ prev_centroids.T) \n",
    "                               + np.sum(prev_centroids*prev_centroids, axis=1)\n",
    "                       ))\n",
    "    \n",
    "    distance_matrix = (1/D_MIN) * np.clip(D_MIN - distance_matrix, a_min=0, a_max=D_MIN)\n",
    "    simmilarity_matrix = (2*shape_simmilarity_matrix * distance_matrix)/(shape_simmilarity_matrix + distance_matrix)\n",
    "    return simmilarity_matrix, (distance_matrix, shape_simmilarity_matrix)"
   ]
  },
  {
   "cell_type": "code",
   "execution_count": 101,
   "metadata": {},
   "outputs": [],
   "source": [
    "dd = np.array([[849.03887384, 847.03887384],\n",
    " [847.03887385, 849.03887384]])"
   ]
  },
  {
   "cell_type": "code",
   "execution_count": 103,
   "metadata": {},
   "outputs": [
    {
     "name": "stderr",
     "output_type": "stream",
     "text": [
      "/tmp/ipykernel_172660/3973071367.py:1: RuntimeWarning: overflow encountered in exp\n",
      "  np.exp(dd)\n"
     ]
    },
    {
     "data": {
      "text/plain": [
       "array([[inf, inf],\n",
       "       [inf, inf]])"
      ]
     },
     "execution_count": 103,
     "metadata": {},
     "output_type": "execute_result"
    }
   ],
   "source": [
    "np.exp(dd)"
   ]
  },
  {
   "cell_type": "code",
   "execution_count": 102,
   "metadata": {},
   "outputs": [
    {
     "name": "stderr",
     "output_type": "stream",
     "text": [
      "/tmp/ipykernel_172660/3629721334.py:50: RuntimeWarning: overflow encountered in exp\n",
      "  row_wise = np.exp(M) / np.sum(np.exp(M), axis=0).reshape(1,-1)\n",
      "/tmp/ipykernel_172660/3629721334.py:50: RuntimeWarning: invalid value encountered in true_divide\n",
      "  row_wise = np.exp(M) / np.sum(np.exp(M), axis=0).reshape(1,-1)\n",
      "/tmp/ipykernel_172660/3629721334.py:51: RuntimeWarning: overflow encountered in exp\n",
      "  column_wise = np.exp(M) / np.sum(np.exp(M), axis=1).reshape(-1,1)\n",
      "/tmp/ipykernel_172660/3629721334.py:51: RuntimeWarning: invalid value encountered in true_divide\n",
      "  column_wise = np.exp(M) / np.sum(np.exp(M), axis=1).reshape(-1,1)\n"
     ]
    },
    {
     "data": {
      "text/plain": [
       "array([[nan, nan],\n",
       "       [nan, nan]])"
      ]
     },
     "execution_count": 102,
     "metadata": {},
     "output_type": "execute_result"
    }
   ],
   "source": [
    "bi_directional_softmax(dd)"
   ]
  },
  {
   "cell_type": "code",
   "execution_count": 73,
   "metadata": {},
   "outputs": [
    {
     "name": "stdout",
     "output_type": "stream",
     "text": [
      "[[0.85926807 0.99158122]]\n",
      "[[0.21301396 0.93662106]]\n"
     ]
    }
   ],
   "source": [
    "A = B = None\n",
    "n = 0\n",
    "m = 40\n",
    "\n",
    "mgen = MaskMapGenerator(None, 0.5, 0.2)\n",
    "for  i in mgen.generate(m):\n",
    "    n += 1\n",
    "    if n == m-4:\n",
    "        A = i\n",
    "    B = i\n",
    "\n",
    "dbscan = DBSCAN(5, min_samples=4)\n",
    "simmilarities, (dist, shape) = cluster_simmilarity(get_clusters(B, dbscan), get_clusters(A, dbscan))"
   ]
  },
  {
   "cell_type": "markdown",
   "metadata": {},
   "source": [
    "# Comp-aring clustering algorithms"
   ]
  },
  {
   "cell_type": "code",
   "execution_count": 18,
   "metadata": {},
   "outputs": [],
   "source": [
    "mgen = MaskMapGenerator(None, 0.5, 0.2)\n",
    "n = 300\n",
    "np.random.seed(1410)\n",
    "allmaps =  [m for m in mgen.generate(n)]"
   ]
  },
  {
   "cell_type": "code",
   "execution_count": 76,
   "metadata": {},
   "outputs": [],
   "source": [
    "def get_cluster_array(clstrs):\n",
    "    only_clstrs = clstrs[clstrs[:,0] != -1]\n",
    "    all_ids = np.unique(only_clstrs[:,0])\n",
    "    cluster_array = []\n",
    "    for clstr_id in all_ids:\n",
    "        separate_cluster = only_clstrs[only_clstrs[:,0] == clstr_id]\n",
    "        cluster_array.append(separate_cluster[:,-2:])\n",
    "    return cluster_array\n",
    "        \n"
   ]
  },
  {
   "cell_type": "code",
   "execution_count": 77,
   "metadata": {},
   "outputs": [],
   "source": [
    "def showmap(m):\n",
    "    fig, axis = plt.subplots(nrows=1, ncols=1, figsize=(10,6))\n",
    "    cnames = ['A','B']\n",
    "    centroids, _ = measure_clusters(get_clusters(m, dbscan))\n",
    "    axis.imshow(m)\n",
    "    for centr_number, centroid in enumerate(centroids):\n",
    "        axis.set_title(cnames[0])\n",
    "        axis.text(x = centroid[1], y = centroid[0], s=str(centr_number), bbox=dict(color='white', alpha=0.1))"
   ]
  },
  {
   "cell_type": "code",
   "execution_count": 78,
   "metadata": {},
   "outputs": [
    {
     "data": {
      "application/vnd.jupyter.widget-view+json": {
       "model_id": "850667701e4a4c0baafaf7c3c0675cfd",
       "version_major": 2,
       "version_minor": 0
      },
      "text/plain": [
       "  0%|          | 0/2 [00:00<?, ?it/s]"
      ]
     },
     "metadata": {},
     "output_type": "display_data"
    },
    {
     "data": {
      "application/vnd.jupyter.widget-view+json": {
       "model_id": "29dda2d4b54d4e31815659831db325d6",
       "version_major": 2,
       "version_minor": 0
      },
      "text/plain": [
       "0it [00:00, ?it/s]"
      ]
     },
     "metadata": {},
     "output_type": "display_data"
    },
    {
     "name": "stderr",
     "output_type": "stream",
     "text": [
      "/home/mwm/anaconda3/lib/python3.9/site-packages/sklearn/cluster/_optics.py:570: UserWarning: All reachability values are inf. Set a larger max_eps or all data will be considered outliers.\n",
      "  warnings.warn(\n",
      "/home/mwm/anaconda3/lib/python3.9/site-packages/sklearn/cluster/_optics.py:570: UserWarning: All reachability values are inf. Set a larger max_eps or all data will be considered outliers.\n",
      "  warnings.warn(\n",
      "/home/mwm/anaconda3/lib/python3.9/site-packages/sklearn/cluster/_optics.py:570: UserWarning: All reachability values are inf. Set a larger max_eps or all data will be considered outliers.\n",
      "  warnings.warn(\n",
      "/home/mwm/anaconda3/lib/python3.9/site-packages/sklearn/cluster/_optics.py:570: UserWarning: All reachability values are inf. Set a larger max_eps or all data will be considered outliers.\n",
      "  warnings.warn(\n",
      "/home/mwm/anaconda3/lib/python3.9/site-packages/sklearn/cluster/_optics.py:570: UserWarning: All reachability values are inf. Set a larger max_eps or all data will be considered outliers.\n",
      "  warnings.warn(\n"
     ]
    },
    {
     "data": {
      "application/vnd.jupyter.widget-view+json": {
       "model_id": "bb7046296ed14cad964e02f882052019",
       "version_major": 2,
       "version_minor": 0
      },
      "text/plain": [
       "0it [00:00, ?it/s]"
      ]
     },
     "metadata": {},
     "output_type": "display_data"
    }
   ],
   "source": [
    "from sklearn.cluster import DBSCAN, OPTICS, Birch, MeanShift, AgglomerativeClustering\n",
    "from collections import defaultdict\n",
    "from tqdm.notebook import tqdm\n",
    "\n",
    "optics = OPTICS(min_samples=4, max_eps=5)\n",
    "birch = Birch()\n",
    "ms = MeanShift()\n",
    "aggc = AgglomerativeClustering(None, distance_threshold = 10)\n",
    "\n",
    "dbscan = DBSCAN(5, min_samples=4)\n",
    "clfs = [optics, dbscan] \n",
    "clf_metrics = []\n",
    "\n",
    "blobsets = { k: set(tuple(pair) for pair in v) for k, v in mgen.blobs.items()}\n",
    "linesets = { k: set(tuple(pair) for pair in v) for k, v in mgen.lines.items()}\n",
    "acc_blobs = []\n",
    "acc_lines = []\n",
    "all_metrics = []\n",
    "\n",
    "for clf in tqdm(clfs):\n",
    "    metrics = defaultdict(list)\n",
    "    blob_acc = defaultdict(list)\n",
    "    line_acc = defaultdict(list)\n",
    "    allmaps_possible_clusterpoints = []\n",
    "    acc, mm, recall = [], [], []\n",
    "    for i, m in tqdm(enumerate(allmaps)):\n",
    "        clstrs = get_clusters(m, clf)\n",
    "        arr = get_cluster_array(clstrs)\n",
    "        possible = []\n",
    "        backsee = 8\n",
    "        allclustered = set(tuple(pair) for pair in clstrs[clstrs[:,0] != -1][:,-2:])\n",
    "        tn = len(set(tuple(pair) for pair in clstrs[clstrs[:,0] == -1][:,-2:]))\n",
    "        all_pixels = set(tuple(pair) for pair in clstrs[:,-2:])\n",
    "        for kb, blob in mgen.blobs.items():\n",
    "            if i >= kb and i - backsee < kb:\n",
    "                possible.append(blob)\n",
    "        for lb, line in mgen.lines.items():\n",
    "             if i >= lb and i - backsee < lb:\n",
    "                possible.append(line)\n",
    "        all_possible_pixels = np.concatenate(possible) if len(possible)!=0 else np.array([])\n",
    "        all_found_pixels = np.concatenate(arr) if len(arr)!=0 else np.array([])\n",
    "        data1 = set(tuple(pair) for pair in all_possible_pixels)\n",
    "        data2 = set(tuple(pair) for pair in all_found_pixels)\n",
    "        for kb, blob in mgen.blobs.items():\n",
    "            if i >= kb and i - backsee < kb:\n",
    "                if blobsets[kb]:\n",
    "                    blob_acc[kb].append(len(allclustered & blobsets[kb])/len(all_pixels))\n",
    "        for lb, line in mgen.lines.items():\n",
    "             if i >= lb and i - backsee < lb:\n",
    "                if linesets[lb]:\n",
    "                    line_acc[lb].append(len(allclustered & linesets[lb])/len(all_pixels))\n",
    "\n",
    "        if possible:\n",
    "            alld_a= np.array(list(all_pixels)) \n",
    "            alld_b = np.zeros((alld_a.shape[0], 3), dtype=int)\n",
    "            alld_b[:,-2:] = alld_a\n",
    "            match = [tuple(x[-2:]) in data1 for x in alld_b]\n",
    "            alld_b[:,0][match] = 1\n",
    "            alld_b = np.array(sorted([tuple(x) for x in alld_b], key=lambda x: x[-2:]))\n",
    "            allmaps_possible_clusterpoints.append(alld_b)\n",
    "        else:\n",
    "            allmaps_possible_clusterpoints.append([])\n",
    "        tp = len(data1 & data2) # present in generated data in and in found in clusters\n",
    "        fp = len(data2 - data1) # not present in generated, but found\n",
    "        fn = len(data1 - data2) # generated in the data, but not found\n",
    "        tn = len(all_pixels - data1)\n",
    "        metrics['tp'].append(tp)\n",
    "        metrics['fp'].append(fp)\n",
    "        metrics['fn'].append(fn)\n",
    "        metrics['tn'].append(tn)\n",
    "        acc.append((tp+tn)/len(all_pixels))\n",
    "        recall.append(tp/(tp+fn) if tp+fn!=0 else 0)\n",
    "        mm.append(tp/len(all_pixels))\n",
    "    clf_metrics.append((acc, recall, mm))\n",
    "    acc_blobs.append(blob_acc)\n",
    "    acc_lines.append(line_acc)\n",
    "    all_metrics.append(metrics)\n",
    "            \n",
    "    \n"
   ]
  },
  {
   "cell_type": "code",
   "execution_count": 79,
   "metadata": {},
   "outputs": [],
   "source": [
    "d = all_metrics[0]\n",
    "\n",
    "summed_conf_mat = lambda x : {n:sum(x[n]) for n in ['tp', 'fn', 'fp', 'tn']}\n",
    "\n",
    "def calc_fp_ratio(dat):\n",
    "    met = summed_conf_mat(dat)\n",
    "    return met['fp']/(met['fp']+ met['tn'])\n",
    "    \n"
   ]
  },
  {
   "cell_type": "code",
   "execution_count": 80,
   "metadata": {
    "lines_to_next_cell": 2
   },
   "outputs": [
    {
     "name": "stdout",
     "output_type": "stream",
     "text": [
      "0.1874091866085461\n",
      "0.23371829646821957\n"
     ]
    }
   ],
   "source": [
    "print(calc_fp_ratio(all_metrics[0]))\n",
    "print(calc_fp_ratio(all_metrics[1]))"
   ]
  },
  {
   "cell_type": "code",
   "execution_count": 81,
   "metadata": {},
   "outputs": [
    {
     "data": {
      "text/plain": [
       "[{'tp': 0, 'fn': 2944, 'fp': 6320, 'tn': 27403},\n",
       " {'tp': 0, 'fn': 2944, 'fp': 8358, 'tn': 27403}]"
      ]
     },
     "execution_count": 81,
     "metadata": {},
     "output_type": "execute_result"
    }
   ],
   "source": [
    "[summed_conf_mat(all_metrics[i]) for i in range(2)]"
   ]
  },
  {
   "cell_type": "code",
   "execution_count": 82,
   "metadata": {},
   "outputs": [
    {
     "data": {
      "image/png": "[encoded data removed]",
      "text/plain": [
       "<Figure size 576x1080 with 2 Axes>"
      ]
     },
     "metadata": {
      "needs_background": "light"
     },
     "output_type": "display_data"
    }
   ],
   "source": [
    "fig, axes = plt.subplots(2,1, figsize=(8,15))\n",
    "for blobber, axe in zip(acc_lines,axes):\n",
    "    for k,v in blobber.items():\n",
    "        axe.plot(v)"
   ]
  },
  {
   "cell_type": "code",
   "execution_count": null,
   "metadata": {},
   "outputs": [],
   "source": []
  },
  {
   "cell_type": "code",
   "execution_count": 83,
   "metadata": {},
   "outputs": [
    {
     "data": {
      "image/png": "[encoded data removed]",
      "text/plain": [
       "<Figure size 1152x1080 with 6 Axes>"
      ]
     },
     "metadata": {
      "needs_background": "light"
     },
     "output_type": "display_data"
    }
   ],
   "source": [
    "fig, axes = plt.subplots(3,2, figsize=(16,15))\n",
    "for blobber, axe in zip(acc_blobs,axes):\n",
    "    suma = 0\n",
    "    for k,v in blobber.items():\n",
    "        axe[0].plot(v)"
   ]
  },
  {
   "cell_type": "code",
   "execution_count": 84,
   "metadata": {},
   "outputs": [
    {
     "ename": "IndexError",
     "evalue": "list index out of range",
     "output_type": "error",
     "traceback": [
      "\u001b[0;31m---------------------------------------------------------------------------\u001b[0m",
      "\u001b[0;31mIndexError\u001b[0m                                Traceback (most recent call last)",
      "Input \u001b[0;32mIn [84]\u001b[0m, in \u001b[0;36m<cell line: 3>\u001b[0;34m()\u001b[0m\n\u001b[1;32m      1\u001b[0m plt\u001b[38;5;241m.\u001b[39mplot(clf_metrics[\u001b[38;5;241m0\u001b[39m][\u001b[38;5;241m0\u001b[39m])\n\u001b[1;32m      2\u001b[0m plt\u001b[38;5;241m.\u001b[39mplot(clf_metrics[\u001b[38;5;241m1\u001b[39m][\u001b[38;5;241m0\u001b[39m])\n\u001b[0;32m----> 3\u001b[0m plt\u001b[38;5;241m.\u001b[39mplot(\u001b[43mclf_metrics\u001b[49m\u001b[43m[\u001b[49m\u001b[38;5;241;43m2\u001b[39;49m\u001b[43m]\u001b[49m[\u001b[38;5;241m0\u001b[39m])\n\u001b[1;32m      4\u001b[0m plt\u001b[38;5;241m.\u001b[39mplot(clf_metrics[\u001b[38;5;241m3\u001b[39m][\u001b[38;5;241m0\u001b[39m])\n",
      "\u001b[0;31mIndexError\u001b[0m: list index out of range"
     ]
    },
    {
     "data": {
      "image/png": "[encoded data removed]",
      "text/plain": [
       "<Figure size 432x288 with 1 Axes>"
      ]
     },
     "metadata": {
      "needs_background": "light"
     },
     "output_type": "display_data"
    }
   ],
   "source": [
    "plt.plot(clf_metrics[0][0])\n",
    "plt.plot(clf_metrics[1][0])\n",
    "plt.plot(clf_metrics[2][0])\n",
    "plt.plot(clf_metrics[3][0])"
   ]
  },
  {
   "cell_type": "code",
   "execution_count": null,
   "metadata": {},
   "outputs": [],
   "source": [
    "plt.plot(clf_metrics[0][1])\n",
    "plt.plot(clf_metrics[1][1])\n",
    "plt.plot(clf_metrics[2][1])\n",
    "plt.plot(clf_metrics[3][1])"
   ]
  },
  {
   "cell_type": "code",
   "execution_count": null,
   "metadata": {},
   "outputs": [],
   "source": [
    "plt.plot(clf_metrics[0][2])\n",
    "plt.plot(clf_metrics[1][2])\n",
    "plt.plot(clf_metrics[2][2])\n",
    "plt.plot(clf_metrics[3][2])"
   ]
  },
  {
   "cell_type": "code",
   "execution_count": null,
   "metadata": {},
   "outputs": [],
   "source": [
    "acc"
   ]
  },
  {
   "cell_type": "code",
   "execution_count": null,
   "metadata": {},
   "outputs": [],
   "source": [
    "label_mapping"
   ]
  },
  {
   "cell_type": "code",
   "execution_count": null,
   "metadata": {
    "lines_to_next_cell": 2
   },
   "outputs": [],
   "source": [
    "import ipywidgets as widgets\n",
    "\n",
    "play = widgets.Play(\n",
    "    value=0,\n",
    "    min=0,\n",
    "    max=len(allmaps),\n",
    "    step=1,\n",
    "    interval=500,\n",
    "    description=\"Press play\",\n",
    "    disabled=False\n",
    ")\n",
    "\n",
    "def f(frame):\n",
    "    fig, axes = plt.subplots(2,2, figsize=(12,12))\n",
    "    B = allmaps[frame-1]\n",
    "    A = allmaps[frame]\n",
    "    for ax, clf in zip(axes, clfs):\n",
    "        axis = ax\n",
    "        centroids, _ = measure_clusters(get_clusters(B, clf))\n",
    "        axis[0].imshow(B)\n",
    "        for centr_number, centroid in enumerate(centroids):\n",
    "            #axis[0].set_title(cnames[0])\n",
    "            axis[0].text(x = centroid[1], y = centroid[0], s=str(centr_number), bbox=dict(color='white', alpha=0.1))\n",
    "\n",
    "        centroids, _ = measure_clusters(get_clusters(A, clf))\n",
    "        simmilarities, (dist, shape) = cluster_simmilarity(get_clusters(B, clf), get_clusters(A, clf))\n",
    "        axis[1].imshow(A)\n",
    "        label_mapping = get_cluster_mapping(simmilarities)or {}\n",
    "        print(label_mapping)\n",
    "        for centr_number, centroid in enumerate(centroids):\n",
    "            #axis[1].set_title(cnames[1])\n",
    "            if centr_number in label_mapping.keys():\n",
    "                name = str(label_mapping[centr_number])\n",
    "            else:\n",
    "                name = 'new'\n",
    "            axis[1].text(x = centroid[1], y = centroid[0], s=name, bbox=dict(color='white', alpha=0.1))\n",
    "    \n",
    "\n",
    "\n",
    "slider = widgets.IntSlider(value=0, min=0, max=len(allmaps))\n",
    "widgets.jslink((play, 'value'), (slider, 'value'))\n",
    "out = widgets.interactive_output(f, {'frame': slider})\n",
    "widgets.VBox([out, widgets.VBox([play, slider])])"
   ]
  },
  {
   "cell_type": "code",
   "execution_count": null,
   "metadata": {
    "lines_to_next_cell": 2
   },
   "outputs": [],
   "source": [
    "data_dbscan = []\n",
    "clf = dbscan\n",
    "for frame in range(1,len(allmaps)):\n",
    "    B = allmaps[frame-1]\n",
    "    A = allmaps[frame]\n",
    "    centroids, _ = measure_clusters(get_clusters(A, clf))\n",
    "    simmilarities, (dist, shape) = cluster_simmilarity(get_clusters(B, clf), get_clusters(A, clf))\n",
    "    label_mapping = get_cluster_mapping(simmilarities) if simmilarities is not None else {}\n",
    "    old_clusters = 0\n",
    "    new_clusters = 0\n",
    "    for centr_number, centroid in enumerate(centroids):\n",
    "        if centr_number in label_mapping.keys():\n",
    "            old_clusters += 1\n",
    "        else:\n",
    "            new_clusters += 1\n",
    "    data_dbscan.append((frame, old_clusters, new_clusters))"
   ]
  },
  {
   "cell_type": "code",
   "execution_count": null,
   "metadata": {
    "lines_to_next_cell": 2
   },
   "outputs": [],
   "source": [
    "data_optics = []\n",
    "clf = optics\n",
    "for frame in range(1,len(allmaps)):\n",
    "    B = allmaps[frame-1]\n",
    "    A = allmaps[frame]\n",
    "    centroids, _ = measure_clusters(get_clusters(A, clf))\n",
    "    simmilarities, (dist, shape) = cluster_simmilarity(get_clusters(B, clf), get_clusters(A, clf))\n",
    "    label_mapping = get_cluster_mapping(simmilarities) if simmilarities is not None else {}\n",
    "    old_clusters = 0\n",
    "    new_clusters = 0\n",
    "    for centr_number, centroid in enumerate(centroids):\n",
    "        if centr_number in label_mapping.keys():\n",
    "            old_clusters += 1\n",
    "        else:\n",
    "            new_clusters += 1\n",
    "    data_optics.append((frame, old_clusters, new_clusters))"
   ]
  },
  {
   "cell_type": "code",
   "execution_count": null,
   "metadata": {},
   "outputs": [],
   "source": [
    "do = np.array(data_optics)\n",
    "dd = np.array(data_dbscan)"
   ]
  },
  {
   "cell_type": "code",
   "execution_count": null,
   "metadata": {},
   "outputs": [],
   "source": [
    "do[:,1].sum(), dd[:,1].sum()"
   ]
  },
  {
   "cell_type": "code",
   "execution_count": null,
   "metadata": {},
   "outputs": [],
   "source": [
    "do[:,2].sum(), dd[:,2].sum()"
   ]
  },
  {
   "cell_type": "code",
   "execution_count": null,
   "metadata": {},
   "outputs": [],
   "source": [
    "plt.plot(do[:,1])\n",
    "plt.plot(do[:,2])"
   ]
  },
  {
   "cell_type": "code",
   "execution_count": null,
   "metadata": {},
   "outputs": [],
   "source": [
    "plt.plot(dd[:,1])\n",
    "plt.plot(dd[:,2])"
   ]
  },
  {
   "cell_type": "code",
   "execution_count": null,
   "metadata": {},
   "outputs": [],
   "source": []
  },
  {
   "cell_type": "code",
   "execution_count": null,
   "metadata": {},
   "outputs": [],
   "source": [
    "def categorised(map_matrix, clustering_algorithm):\n",
    "    clustered_points = get_clusters(map_matrix, clustering_algorithm)\n",
    "    clustered_points[:, 0][clustered_points[:, 0] != -1 ] = 1\n",
    "    clustered_points[:, 0][clustered_points[:, 0] == -1 ] = 0\n",
    "    return clustered_points"
   ]
  },
  {
   "cell_type": "code",
   "execution_count": null,
   "metadata": {},
   "outputs": [],
   "source": [
    "clstrd = categorised(B, optics)"
   ]
  },
  {
   "cell_type": "code",
   "execution_count": null,
   "metadata": {},
   "outputs": [],
   "source": [
    "from sklearn.metrics import log_loss\n",
    "log_loss([0,1,1,1], [0,1,1,1])"
   ]
  },
  {
   "cell_type": "code",
   "execution_count": null,
   "metadata": {},
   "outputs": [],
   "source": [
    "class metalern(OPTICS):\n",
    "    def __init__(self,min_samples=5, max_eps=np.inf, metric='minkowski', p=2, metric_params=None, cluster_method='xi', eps=None, xi=0.05, predecessor_correction=True, min_cluster_size=None, algorithm='auto', leaf_size=30, n_jobs=None):\n",
    "        OPTICS.__init__(self, min_samples, max_eps, metric, p, metric_params, cluster_method, eps, xi, predecessor_correction, min_cluster_size, algorithm, leaf_size, n_jobs)\n",
    "        \n",
    "    def predict(self, x):\n",
    "        self.fit(x)\n",
    "        clustered_points = np.hstack((\n",
    "                                self.labels_.reshape(-1,1),\n",
    "                                x\n",
    "                                ))\n",
    "        clustered_points\n",
    "        clustered_points[:, 0][clustered_points[:, 0] != -1 ] = 1\n",
    "        clustered_points[:, 0][clustered_points[:, 0] == -1 ] = 0\n",
    "        return clustered_points\n",
    "        \n",
    "        "
   ]
  },
  {
   "cell_type": "code",
   "execution_count": null,
   "metadata": {},
   "outputs": [],
   "source": [
    "from sklearn import svm, datasets\n",
    "from sklearn.model_selection import GridSearchCV\n",
    "iris = datasets.load_iris()\n",
    "parameters = {'kernel':('linear', 'rbf'), 'C':[1, 10]}\n",
    "svc = svm.SVC()\n",
    "clf = GridSearchCV(svc, parameters)\n",
    "clf.fit(iris.data, iris.target)\n",
    "\n"
   ]
  },
  {
   "cell_type": "code",
   "execution_count": null,
   "metadata": {},
   "outputs": [],
   "source": [
    "def listify(map_matrix):\n",
    "    map_points = np.array(\n",
    "                    sorted(list(\n",
    "                        zip(np.where(map_matrix != 0)[0],\n",
    "                            np.where(map_matrix != 0)[1])\n",
    "                    )))\n",
    "    \n",
    "    if len(map_points) == 0:\n",
    "        return []\n",
    "    else:\n",
    "        return map_points"
   ]
  },
  {
   "cell_type": "code",
   "execution_count": null,
   "metadata": {},
   "outputs": [],
   "source": [
    "real = [listify(x) for x in allmaps]\n",
    "realy = [x[:,0] for x in allmaps_possible_clusterpoints]"
   ]
  },
  {
   "cell_type": "code",
   "execution_count": null,
   "metadata": {},
   "outputs": [],
   "source": [
    "allmaps_possible_clusterpoints[0]"
   ]
  },
  {
   "cell_type": "code",
   "execution_count": null,
   "metadata": {},
   "outputs": [],
   "source": [
    "img = np.zeros((256,256))\n",
    "img[real[1][:,0],real[1][:,0]] = realy[1]\n",
    "plt.imshow(img)"
   ]
  },
  {
   "cell_type": "code",
   "execution_count": null,
   "metadata": {},
   "outputs": [],
   "source": [
    "real[1], realy[1]"
   ]
  },
  {
   "cell_type": "code",
   "execution_count": null,
   "metadata": {},
   "outputs": [],
   "source": []
  },
  {
   "cell_type": "code",
   "execution_count": null,
   "metadata": {},
   "outputs": [],
   "source": [
    "import itertools\n",
    "for d in itertools.product((1,2,3),'abb','*=-'):\n",
    "    print(d)"
   ]
  },
  {
   "cell_type": "code",
   "execution_count": null,
   "metadata": {},
   "outputs": [],
   "source": [
    "from sklearn.metrics import log_loss, accuracy_score\n",
    "\n",
    "grid_score = {}\n",
    "for min_samples, metric, eps in tqdm(itertools.product((1,5,8),[ 'cosine', 'euclidean', 'l2'],[1.,5.,8.])):\n",
    "    clf = OPTICS(min_samples=min_samples, metric=metric, eps=eps)\n",
    "    cv_acc = []\n",
    "    for x,y in tqdm(zip(real, realy)):\n",
    "        clf.fit(x)\n",
    "        clustered_points = np.hstack((\n",
    "                                clf.labels_.reshape(-1,1),\n",
    "                                x\n",
    "                                ))\n",
    "        clustered_points[:, 0][clustered_points[:, 0] != -1 ] = 1\n",
    "        clustered_points[:, 0][clustered_points[:, 0] == -1 ] = 0\n",
    "        ypred = clustered_points[:,0]\n",
    "        cv_acc.append(accuracy_score(y, ypred))\n",
    "    grid_score[(min_samples, metric, eps)] = np.mean(cv_acc)"
   ]
  },
  {
   "cell_type": "code",
   "execution_count": null,
   "metadata": {},
   "outputs": [],
   "source": [
    "from sklearn import svm, datasets\n",
    "from sklearn.model_selection import GridSearchCV\n",
    "iris = datasets.load_iris()\n",
    "parameters = {\n",
    "    'min_samples':[1,5,8], \n",
    "    'metric':[ 'cosine', 'euclidean',a 'l2'],\n",
    "    'eps': [1., 5., 8.]\n",
    "}\n",
    "mtl = metalern()\n",
    "clf = GridSearchCV(mtl, parameters, scoring=\"accuracy\")\n",
    "clf.fit(real[4], realy[4])\n",
    "\n"
   ]
  },
  {
   "cell_type": "code",
   "execution_count": null,
   "metadata": {},
   "outputs": [],
   "source": [
    "clf.best_estimator_"
   ]
  },
  {
   "cell_type": "markdown",
   "metadata": {},
   "source": [
    "# End compare"
   ]
  },
  {
   "cell_type": "code",
   "execution_count": null,
   "metadata": {},
   "outputs": [],
   "source": [
    "dist"
   ]
  },
  {
   "cell_type": "code",
   "execution_count": null,
   "metadata": {},
   "outputs": [],
   "source": [
    "centroids"
   ]
  },
  {
   "cell_type": "code",
   "execution_count": 85,
   "metadata": {},
   "outputs": [
    {
     "data": {
      "image/png": "[encoded data removed]",
      "text/plain": [
       "<Figure size 720x432 with 2 Axes>"
      ]
     },
     "metadata": {
      "needs_background": "light"
     },
     "output_type": "display_data"
    }
   ],
   "source": [
    "\n",
    "\n",
    "fig, axis = plt.subplots(nrows=1, ncols=2, figsize=(10,6))\n",
    "cnames = ['A','B']\n",
    "centroids, _ = measure_clusters(get_clusters(B, dbscan))\n",
    "axis[0].imshow(B)\n",
    "for centr_number, centroid in enumerate(centroids):\n",
    "    axis[0].set_title(cnames[0])\n",
    "    axis[0].text(x = centroid[1], y = centroid[0], s=str(centr_number), bbox=dict(color='white', alpha=0.1))\n",
    "    \n",
    "centroids, _ = measure_clusters(get_clusters(A, dbscan))\n",
    "axis[1].imshow(A)\n",
    "for centr_number, centroid in enumerate(centroids):\n",
    "    axis[1].set_title(cnames[1])\n",
    "    axis[1].text(x = centroid[1], y = centroid[0], s=str(centr_number), bbox=dict(color='white', alpha=0.1))"
   ]
  },
  {
   "cell_type": "code",
   "execution_count": 86,
   "metadata": {
    "lines_to_next_cell": 2
   },
   "outputs": [
    {
     "name": "stderr",
     "output_type": "stream",
     "text": [
      "/home/mwm/anaconda3/lib/python3.9/site-packages/seaborn/matrix.py:198: RuntimeWarning: All-NaN slice encountered\n",
      "  vmin = np.nanmin(calc_data)\n",
      "/home/mwm/anaconda3/lib/python3.9/site-packages/seaborn/matrix.py:203: RuntimeWarning: All-NaN slice encountered\n",
      "  vmax = np.nanmax(calc_data)\n"
     ]
    },
    {
     "data": {
      "text/plain": [
       "Text(609.9818181818181, 0.5, 'A')"
      ]
     },
     "execution_count": 86,
     "metadata": {},
     "output_type": "execute_result"
    },
    {
     "data": {
      "image/png": "[encoded data removed]",
      "text/plain": [
       "<Figure size 1152x432 with 4 Axes>"
      ]
     },
     "metadata": {
      "needs_background": "light"
     },
     "output_type": "display_data"
    }
   ],
   "source": [
    "fig, axis = plt.subplots(1, 2, figsize=(16,6))\n",
    "sns.heatmap(dist, ax = axis[0])\n",
    "axis[0].set_title('distance similairites')\n",
    "sns.heatmap(shape, ax = axis[1])\n",
    "axis[1].set_title('shape similairites')\n",
    "axis[0].set_xlabel('B')\n",
    "axis[0].set_ylabel('A')\n",
    "axis[1].set_xlabel('B')\n",
    "axis[1].set_ylabel('A')"
   ]
  },
  {
   "cell_type": "code",
   "execution_count": 87,
   "metadata": {},
   "outputs": [
    {
     "data": {
      "text/plain": [
       "Text(51.0, 0.5, 'A')"
      ]
     },
     "execution_count": 87,
     "metadata": {},
     "output_type": "execute_result"
    },
    {
     "data": {
      "image/png": "[encoded data removed]",
      "text/plain": [
       "<Figure size 576x432 with 2 Axes>"
      ]
     },
     "metadata": {
      "needs_background": "light"
     },
     "output_type": "display_data"
    }
   ],
   "source": [
    "fig, axis = plt.subplots(1, 1, figsize=(8,6))\n",
    "sns.heatmap(simmilarities, ax=axis)\n",
    "axis.set_title('similarity score')\n",
    "axis.set_xlabel('B')\n",
    "axis.set_ylabel('A')"
   ]
  },
  {
   "cell_type": "code",
   "execution_count": 88,
   "metadata": {},
   "outputs": [
    {
     "data": {
      "text/plain": [
       "Text(51.0, 0.5, 'A')"
      ]
     },
     "execution_count": 88,
     "metadata": {},
     "output_type": "execute_result"
    },
    {
     "data": {
      "image/png": "[encoded data removed]",
      "text/plain": [
       "<Figure size 576x432 with 2 Axes>"
      ]
     },
     "metadata": {
      "needs_background": "light"
     },
     "output_type": "display_data"
    }
   ],
   "source": [
    "fig, axis = plt.subplots(1, 1, figsize=(8,6))\n",
    "sns.heatmap(find_strong_max(simmilarities), ax=axis)\n",
    "axis.set_title('similarity score')\n",
    "axis.set_xlabel('B')\n",
    "axis.set_ylabel('A')"
   ]
  },
  {
   "cell_type": "code",
   "execution_count": 89,
   "metadata": {},
   "outputs": [],
   "source": [
    "def get_cluster_mapping(simmilarity_matrix):\n",
    "    cluster_pairs =  {}\n",
    "    for col_idx, column in enumerate(find_strong_max(simmilarity_matrix.T)):\n",
    "        if np.max(column) == 1:\n",
    "            cluster_pairs[col_idx] = np.argmax(column)\n",
    "    return cluster_pairs"
   ]
  },
  {
   "cell_type": "code",
   "execution_count": 90,
   "metadata": {},
   "outputs": [
    {
     "data": {
      "text/plain": [
       "array([[0., 0., 0., ..., 0., 0., 0.],\n",
       "       [0., 0., 0., ..., 0., 0., 0.],\n",
       "       [0., 0., 0., ..., 0., 0., 0.],\n",
       "       ...,\n",
       "       [0., 0., 0., ..., 0., 0., 0.],\n",
       "       [0., 0., 0., ..., 0., 0., 0.],\n",
       "       [0., 0., 0., ..., 0., 0., 0.]])"
      ]
     },
     "execution_count": 90,
     "metadata": {},
     "output_type": "execute_result"
    }
   ],
   "source": [
    "B"
   ]
  },
  {
   "cell_type": "code",
   "execution_count": 91,
   "metadata": {},
   "outputs": [
    {
     "data": {
      "text/plain": [
       "True"
      ]
     },
     "execution_count": 91,
     "metadata": {},
     "output_type": "execute_result"
    }
   ],
   "source": [
    "True"
   ]
  },
  {
   "cell_type": "code",
   "execution_count": null,
   "metadata": {},
   "outputs": [],
   "source": []
  },
  {
   "cell_type": "code",
   "execution_count": 92,
   "metadata": {},
   "outputs": [
    {
     "data": {
      "text/plain": [
       "array([  8,   8,   8,   9,   9,  10,  10,  11,  11,  12,  13,  14,  14,\n",
       "        15,  15,  16,  16,  17,  18,  19,  20,  21,  21,  22, 167, 168,\n",
       "       172, 172, 173, 175])"
      ]
     },
     "execution_count": 92,
     "metadata": {},
     "output_type": "execute_result"
    }
   ],
   "source": [
    "bc2[:,1]"
   ]
  },
  {
   "cell_type": "code",
   "execution_count": 93,
   "metadata": {
    "lines_to_next_cell": 2
   },
   "outputs": [],
   "source": [
    "import matplotlib.colors\n",
    "cmap = matplotlib.colors.LinearSegmentedColormap.from_list(\"\", [\"white\",\"black\",\"red\"])"
   ]
  },
  {
   "cell_type": "code",
   "execution_count": 94,
   "metadata": {},
   "outputs": [
    {
     "data": {
      "text/plain": [
       "{}"
      ]
     },
     "execution_count": 94,
     "metadata": {},
     "output_type": "execute_result"
    }
   ],
   "source": [
    "label_mapping"
   ]
  },
  {
   "cell_type": "code",
   "execution_count": 95,
   "metadata": {},
   "outputs": [
    {
     "data": {
      "text/plain": [
       "array([[ 14.04166667, 128.54166667],\n",
       "       [171.16666667, 110.        ]])"
      ]
     },
     "execution_count": 95,
     "metadata": {},
     "output_type": "execute_result"
    }
   ],
   "source": [
    "centroids"
   ]
  },
  {
   "cell_type": "code",
   "execution_count": 150,
   "metadata": {},
   "outputs": [
    {
     "name": "stdout",
     "output_type": "stream",
     "text": [
      "[[0.91573806 0.91477515 0.90496564]\n",
      " [0.99374771 0.99796581 0.99607   ]]\n",
      "heeere\n",
      "[[21.70532516 21.68251235 21.45010903]\n",
      " [23.5535008  23.65343435 23.60851955]]\n",
      "[[0.19801153 0.18193409 0.15140349]\n",
      " [0.46305062 0.4999619  0.48686503]]\n",
      "[[0.         0.         0.        ]\n",
      " [0.         0.65263616 0.        ]]\n"
     ]
    },
    {
     "data": {
      "image/png": "[encoded data removed]",
      "text/plain": [
       "<Figure size 1440x864 with 2 Axes>"
      ]
     },
     "metadata": {
      "needs_background": "light"
     },
     "output_type": "display_data"
    }
   ],
   "source": [
    "fig, axis = plt.subplots(nrows=1, ncols=2, figsize=(20,12))\n",
    "frame = 284\n",
    "B = allmaps[frame-1]\n",
    "A = allmaps[frame]\n",
    "A_bin = A.copy()\n",
    "B_bin = B.copy()\n",
    "A_bin[A_bin!=0] = 1 \n",
    "A_bin[A_bin==0] = 0 \n",
    "B_bin[B_bin!=0] = 1 \n",
    "B_bin[B_bin==0] = 0\n",
    "bc = get_clusters(B, dbscan)\n",
    "bc2 = bc[bc[:,0] != -1]\n",
    "B_bin[bc2[:,1], bc2[:,2]] = 2\n",
    "ac = get_clusters(A, dbscan)\n",
    "ac2 = ac[ac[:,0] != -1]\n",
    "A_bin[ac2[:,1], ac2[:,2]] = 2\n",
    "centroids, _ = measure_clusters(bc)\n",
    "axis[0].imshow(B_bin, cmap=cmap, interpolation='none')\n",
    "for centr_number, centroid in enumerate(centroids):\n",
    "    axis[0].set_title(cnames[0])\n",
    "    axis[0].text(x = centroid[1]+5, y = centroid[0]-5, s=str(centr_number), bbox=dict(color='white', alpha=0.1))\n",
    "    \n",
    "centroids, _ = measure_clusters(ac)\n",
    "axis[1].imshow(A_bin, cmap=cmap, interpolation='none')\n",
    "simmilarities, (dist, shape) = cluster_simmilarity(bc, ac)\n",
    "label_mapping = get_cluster_mapping(simmilarities)\n",
    "print(simmilarities)\n",
    "for centr_number, centroid in enumerate(centroids):\n",
    "    axis[1].set_title(cnames[1])\n",
    "    if centr_number in label_mapping.keys():\n",
    "        name = str(label_mapping[centr_number])\n",
    "    else:\n",
    "        name = 'new'\n",
    "    axis[1].text(x = centroid[1]+10, y = centroid[0]-10, s=name, bbox=dict(color='white', alpha=0.1))"
   ]
  },
  {
   "cell_type": "code",
   "execution_count": 164,
   "metadata": {},
   "outputs": [
    {
     "name": "stdout",
     "output_type": "stream",
     "text": [
      "[[0.91573806 0.91477515 0.90496564]\n",
      " [0.99374771 0.99796581 0.99607   ]]\n",
      "heeere\n",
      "[[21.70532548 21.68251266 21.45010934]\n",
      " [23.55350111 23.65343466 23.60851987]]\n",
      "[[0.19801153 0.18193409 0.15140349]\n",
      " [0.46305062 0.4999619  0.48686503]]\n"
     ]
    },
    {
     "data": {
      "image/png": "[encoded data removed]",
      "text/plain": [
       "<Figure size 504x504 with 1 Axes>"
      ]
     },
     "metadata": {
      "needs_background": "light"
     },
     "output_type": "display_data"
    },
    {
     "data": {
      "image/png": "[encoded data removed]",
      "text/plain": [
       "<Figure size 504x504 with 1 Axes>"
      ]
     },
     "metadata": {
      "needs_background": "light"
     },
     "output_type": "display_data"
    }
   ],
   "source": [
    "figsizenow = (7,7)\n",
    "fig, axis = plt.subplots(nrows=1, ncols=1, figsize=figsizenow)\n",
    "frame = 284\n",
    "B = allmaps[frame-1]\n",
    "A = allmaps[frame]\n",
    "A_bin = A.copy()\n",
    "B_bin = B.copy()\n",
    "A_bin[A_bin!=0] = 1 \n",
    "A_bin[A_bin==0] = 0 \n",
    "B_bin[B_bin!=0] = 1 \n",
    "B_bin[B_bin==0] = 0\n",
    "bc = get_clusters(B, dbscan)\n",
    "bc2 = bc[bc[:,0] != -1]\n",
    "B_bin[bc2[:,1], bc2[:,2]] = 2\n",
    "ac = get_clusters(A, dbscan)\n",
    "ac2 = ac[ac[:,0] != -1]\n",
    "A_bin[ac2[:,1], ac2[:,2]] = 2\n",
    "centroids, _ = measure_clusters(bc)\n",
    "axis.imshow(B_bin, cmap=cmap, interpolation='none')\n",
    "for centr_number, centroid in enumerate(centroids):\n",
    "    axis.set_title(cnames[0])\n",
    "    axis.text(x = centroid[1]+10, y = centroid[0]-5, s=str(centr_number), bbox=dict(color='gray', alpha=0.1))\n",
    "fig.savefig('pics/matching_A.pdf')\n",
    "fig, axis = plt.subplots(nrows=1, ncols=1, figsize=figsizenow)\n",
    "centroids, _ = measure_clusters(ac)\n",
    "axis.imshow(A_bin, cmap=cmap, interpolation='none')\n",
    "simmilarities, (dist, shape) = cluster_simmilarity(bc, ac)\n",
    "label_mapping = get_cluster_mapping(simmilarities)\n",
    "for centr_number, centroid in enumerate(centroids):\n",
    "    axis.set_title(cnames[1])\n",
    "    if centr_number in label_mapping.keys():\n",
    "        name = str(label_mapping[centr_number])\n",
    "    else:\n",
    "        name = 'new'\n",
    "    axis.text(x = centroid[1]+10, y = centroid[0]-10, s=name, bbox=dict(color='gray', alpha=0.1))\n",
    "fig.savefig('pics/matching_B.pdf')"
   ]
  },
  {
   "cell_type": "code",
   "execution_count": 161,
   "metadata": {},
   "outputs": [
    {
     "data": {
      "image/png": "[encoded data removed]",
      "text/plain": [
       "<Figure size 504x504 with 1 Axes>"
      ]
     },
     "metadata": {
      "needs_background": "light"
     },
     "output_type": "display_data"
    }
   ],
   "source": [
    "fig, axis = plt.subplots(nrows=1, ncols=1, figsize=(7,7))\n",
    "frame = 146\n",
    "B = allmaps[frame-1]\n",
    "A = allmaps[frame]\n",
    "A_bin = A.copy()\n",
    "B_bin = B.copy()\n",
    "A_bin[A_bin!=0] = 1 \n",
    "A_bin[A_bin==0] = 0 \n",
    "B_bin[B_bin!=0] = 1 \n",
    "B_bin[B_bin==0] = 0\n",
    "bc = get_clusters(B, dbscan)\n",
    "bc2 = bc[bc[:,0] != -1]\n",
    "B_bin[bc2[:,1], bc2[:,2]] = 2\n",
    "centroids, _ = measure_clusters(bc)\n",
    "axis.imshow(B_bin, cmap=cmap, interpolation='none')\n",
    "for centr_number, centroid in enumerate(centroids):\n",
    "    axis.set_title(cnames[0])\n",
    "    axis.text(x = centroid[1]+8, y = centroid[0]+5, s=str(centr_number), bbox=dict(color='gray', alpha=0.1))\n",
    "fig.savefig('pics/example_clusters.pdf')"
   ]
  },
  {
   "cell_type": "markdown",
   "metadata": {},
   "source": [
    "# Phase 1\n",
    "\n",
    "### Novelty"
   ]
  },
  {
   "cell_type": "code",
   "execution_count": 146,
   "metadata": {},
   "outputs": [],
   "source": [
    "def new_and_lost_clusters_between(curr_map, prev_map, dbscan):\n",
    "    simmilarities, (dist, shape) = cluster_simmilarity(get_clusters(curr_map, dbscan),\n",
    "                                                       get_clusters(prev_map, dbscan))\n",
    "    if simmilarities is None:\n",
    "        return 0, 0\n",
    "    \n",
    "    cluster_pairs_matrix = find_strong_max(simmilarities)\n",
    "    \n",
    "    new = np.where(np.sum(cluster_pairs_matrix, axis = 0) == 0)[0].shape[0]\n",
    "    lost = np.where(np.sum(cluster_pairs_matrix, axis = 1) == 0)[0].shape[0]\n",
    "    return new, lost\n",
    "\n",
    "\n",
    "def novelty_measures(curr_map, prev_map, dbscan):\n",
    "    new_points_count = np.sum(np.clip(curr_map-prev_map, a_min=0, a_max=1))\n",
    "    lost_points_count = np.sum(np.clip(prev_map-curr_map, a_min=0, a_max=1))\n",
    "    \n",
    "    number_of_new_clusters, number_of_lost_clusters = new_and_lost_clusters_between(curr_map, prev_map, dbscan)\n",
    "    \n",
    "    curr_clusters = get_clusters(curr_map, dbscan)\n",
    "    curr_clusters = curr_clusters[np.where(curr_clusters[:,0] != -1)]\n",
    "    prev_clusters = get_clusters(prev_map, dbscan)\n",
    "    prev_clusters = prev_clusters[np.where(prev_clusters[:,0] != -1)]\n",
    "    points_in_clusters_shared = np.vstack((curr_clusters, prev_clusters)).shape[0] \\\n",
    "                            - np.unique(np.vstack((curr_clusters, prev_clusters)), axis=0).shape[0]\n",
    "    new_points_in_clusters_count = curr_clusters.shape[0] - points_in_clusters_shared\n",
    "    lost_points_in_clusters_count = prev_clusters.shape[0] - points_in_clusters_shared\n",
    "    \n",
    "    return (new_points_count,\n",
    "            lost_points_count,\n",
    "            number_of_new_clusters,\n",
    "            number_of_lost_clusters,\n",
    "            new_points_in_clusters_count,\n",
    "            lost_points_in_clusters_count)\n",
    "    \n"
   ]
  },
  {
   "cell_type": "code",
   "execution_count": 147,
   "metadata": {},
   "outputs": [
    {
     "name": "stdout",
     "output_type": "stream",
     "text": [
      "[[nan nan]\n",
      " [nan nan]]\n",
      "[[1. 0.]\n",
      " [0. 1.]]\n",
      "[[nan nan]\n",
      " [nan nan]]\n"
     ]
    },
    {
     "name": "stderr",
     "output_type": "stream",
     "text": [
      "/tmp/ipykernel_170726/393224960.py:50: RuntimeWarning: overflow encountered in exp\n",
      "  row_wise = np.exp(M) / np.sum(np.exp(M), axis=0).reshape(1,-1)\n",
      "/tmp/ipykernel_170726/393224960.py:50: RuntimeWarning: invalid value encountered in true_divide\n",
      "  row_wise = np.exp(M) / np.sum(np.exp(M), axis=0).reshape(1,-1)\n",
      "/tmp/ipykernel_170726/393224960.py:51: RuntimeWarning: overflow encountered in exp\n",
      "  column_wise = np.exp(M) / np.sum(np.exp(M), axis=1).reshape(-1,1)\n",
      "/tmp/ipykernel_170726/393224960.py:51: RuntimeWarning: invalid value encountered in true_divide\n",
      "  column_wise = np.exp(M) / np.sum(np.exp(M), axis=1).reshape(-1,1)\n"
     ]
    },
    {
     "data": {
      "text/plain": [
       "(0.0, 0.0, 2, 2, 0, 0)"
      ]
     },
     "execution_count": 147,
     "metadata": {},
     "output_type": "execute_result"
    }
   ],
   "source": [
    "novelty_measures(A, B, dbscan)"
   ]
  },
  {
   "cell_type": "markdown",
   "metadata": {},
   "source": [
    "### Outlierness"
   ]
  },
  {
   "cell_type": "code",
   "execution_count": 148,
   "metadata": {},
   "outputs": [],
   "source": [
    "from sklearn.neighbors import NearestNeighbors"
   ]
  },
  {
   "cell_type": "code",
   "execution_count": 149,
   "metadata": {},
   "outputs": [],
   "source": [
    "def local_density_imbalance(curr_map, n_neighbors):\n",
    "    points = np.array(np.where(curr_map != 0)).T\n",
    "    near_neigh = NearestNeighbors(n_neighbors=1+n_neighbors)\n",
    "    near_neigh.fit(points)\n",
    "    \n",
    "\n",
    "    std_of_avg_knn_distance = np.std(np.mean(near_neigh.kneighbors(points)[0][:,1:], axis=1))\n",
    "    return std_of_avg_knn_distance\n",
    "\n",
    "def directional_density_imbalance(curr_map, n_neighbors):\n",
    "    points = np.array(np.where(curr_map != 0)).T\n",
    "    near_neigh = NearestNeighbors(n_neighbors=1+n_neighbors)\n",
    "    near_neigh.fit(points)\n",
    "    densities = np.sum(near_neigh.kneighbors(points)[0][:,1:], axis=1)\n",
    "    lr = LinearRegression()\n",
    "    lr.fit(X=points, y=densities)\n",
    "    return lr.coef_\n",
    "\n",
    "        \n",
    "def outlierness_measures(curr_map, dbscan, n_neighbors=5):\n",
    "    \n",
    "    curr_clusters = get_clusters(curr_map, dbscan)\n",
    "    curr_clusters = curr_clusters[np.where(curr_clusters[:,0] != -1)]\n",
    "    number_of_clusters = np.unique(curr_clusters[:,0]).shape[0]\n",
    "    total_points = np.where(curr_map != 0)[0].shape[0]\n",
    "    points_in_clusters = curr_clusters.shape[0]\n",
    "    total_points_normalized = total_points\n",
    "    \n",
    "    directional_imbalance_coef =  directional_density_imbalance(curr_map, n_neighbors)\n",
    "    local_imbalance_coef = local_density_imbalance(curr_map, n_neighbors)\n",
    "    \n",
    "    x_directional_imbalance_coef, y_directional_imbalance_coef = directional_imbalance_coef\n",
    "    return (number_of_clusters,\n",
    "            points_in_clusters,\n",
    "            total_points_normalized,\n",
    "            x_directional_imbalance_coef,\n",
    "            y_directional_imbalance_coef,\n",
    "            local_imbalance_coef)\n",
    "    \n"
   ]
  },
  {
   "cell_type": "code",
   "execution_count": 64,
   "metadata": {},
   "outputs": [
    {
     "data": {
      "text/plain": [
       "(1, 5, 71, 0.20251418262538753, 0.20041350690220738, 13.140967894216496)"
      ]
     },
     "execution_count": 64,
     "metadata": {},
     "output_type": "execute_result"
    }
   ],
   "source": [
    "outlierness_measures(A, dbscan)"
   ]
  },
  {
   "cell_type": "code",
   "execution_count": 65,
   "metadata": {},
   "outputs": [],
   "source": [
    "num_trees = 150\n",
    "tree_size = 16\n",
    "shingle_size = 2\n",
    "\n",
    "curr_map = np.zeros((256,256))\n",
    "codisp_hist = []\n",
    "\n",
    "forest = []\n",
    "for _ in range(num_trees):\n",
    "    tree = rrcf.RCTree()\n",
    "    forest.append(tree)\n",
    "\n",
    "index = 0\n",
    "\n",
    "lines = []\n",
    "blobs = []"
   ]
  },
  {
   "cell_type": "code",
   "execution_count": 70,
   "metadata": {
    "lines_to_next_cell": 2
   },
   "outputs": [
    {
     "name": "stderr",
     "output_type": "stream",
     "text": [
      "<ipython-input-45-a4641898d7d9>:78: RuntimeWarning: divide by zero encountered in true_divide\n",
      "  shape_simmilarity_matrix = bi_directional_softmax(shape_simmilarity_matrix/(np.std(shape_simmilarity_matrix)))\n",
      "<ipython-input-45-a4641898d7d9>:50: RuntimeWarning: invalid value encountered in true_divide\n",
      "  row_wise = np.exp(M) / np.sum(np.exp(M), axis=0).reshape(1,-1)\n",
      "<ipython-input-45-a4641898d7d9>:51: RuntimeWarning: invalid value encountered in true_divide\n",
      "  column_wise = np.exp(M) / np.sum(np.exp(M), axis=1).reshape(-1,1)\n",
      "<ipython-input-45-a4641898d7d9>:78: RuntimeWarning: divide by zero encountered in true_divide\n",
      "  shape_simmilarity_matrix = bi_directional_softmax(shape_simmilarity_matrix/(np.std(shape_simmilarity_matrix)))\n",
      "<ipython-input-45-a4641898d7d9>:50: RuntimeWarning: invalid value encountered in true_divide\n",
      "  row_wise = np.exp(M) / np.sum(np.exp(M), axis=0).reshape(1,-1)\n",
      "<ipython-input-45-a4641898d7d9>:51: RuntimeWarning: invalid value encountered in true_divide\n",
      "  column_wise = np.exp(M) / np.sum(np.exp(M), axis=1).reshape(-1,1)\n",
      "<ipython-input-45-a4641898d7d9>:78: RuntimeWarning: divide by zero encountered in true_divide\n",
      "  shape_simmilarity_matrix = bi_directional_softmax(shape_simmilarity_matrix/(np.std(shape_simmilarity_matrix)))\n",
      "<ipython-input-45-a4641898d7d9>:50: RuntimeWarning: invalid value encountered in true_divide\n",
      "  row_wise = np.exp(M) / np.sum(np.exp(M), axis=0).reshape(1,-1)\n",
      "<ipython-input-45-a4641898d7d9>:51: RuntimeWarning: invalid value encountered in true_divide\n",
      "  column_wise = np.exp(M) / np.sum(np.exp(M), axis=1).reshape(-1,1)\n",
      "<ipython-input-45-a4641898d7d9>:78: RuntimeWarning: divide by zero encountered in true_divide\n",
      "  shape_simmilarity_matrix = bi_directional_softmax(shape_simmilarity_matrix/(np.std(shape_simmilarity_matrix)))\n",
      "<ipython-input-45-a4641898d7d9>:50: RuntimeWarning: invalid value encountered in true_divide\n",
      "  row_wise = np.exp(M) / np.sum(np.exp(M), axis=0).reshape(1,-1)\n",
      "<ipython-input-45-a4641898d7d9>:51: RuntimeWarning: invalid value encountered in true_divide\n",
      "  column_wise = np.exp(M) / np.sum(np.exp(M), axis=1).reshape(-1,1)\n",
      "<ipython-input-45-a4641898d7d9>:78: RuntimeWarning: divide by zero encountered in true_divide\n",
      "  shape_simmilarity_matrix = bi_directional_softmax(shape_simmilarity_matrix/(np.std(shape_simmilarity_matrix)))\n",
      "<ipython-input-45-a4641898d7d9>:50: RuntimeWarning: invalid value encountered in true_divide\n",
      "  row_wise = np.exp(M) / np.sum(np.exp(M), axis=0).reshape(1,-1)\n",
      "<ipython-input-45-a4641898d7d9>:51: RuntimeWarning: invalid value encountered in true_divide\n",
      "  column_wise = np.exp(M) / np.sum(np.exp(M), axis=1).reshape(-1,1)\n",
      "<ipython-input-45-a4641898d7d9>:78: RuntimeWarning: divide by zero encountered in true_divide\n",
      "  shape_simmilarity_matrix = bi_directional_softmax(shape_simmilarity_matrix/(np.std(shape_simmilarity_matrix)))\n",
      "<ipython-input-45-a4641898d7d9>:50: RuntimeWarning: invalid value encountered in true_divide\n",
      "  row_wise = np.exp(M) / np.sum(np.exp(M), axis=0).reshape(1,-1)\n",
      "<ipython-input-45-a4641898d7d9>:51: RuntimeWarning: invalid value encountered in true_divide\n",
      "  column_wise = np.exp(M) / np.sum(np.exp(M), axis=1).reshape(-1,1)\n",
      "<ipython-input-45-a4641898d7d9>:78: RuntimeWarning: divide by zero encountered in true_divide\n",
      "  shape_simmilarity_matrix = bi_directional_softmax(shape_simmilarity_matrix/(np.std(shape_simmilarity_matrix)))\n",
      "<ipython-input-45-a4641898d7d9>:50: RuntimeWarning: invalid value encountered in true_divide\n",
      "  row_wise = np.exp(M) / np.sum(np.exp(M), axis=0).reshape(1,-1)\n",
      "<ipython-input-45-a4641898d7d9>:51: RuntimeWarning: invalid value encountered in true_divide\n",
      "  column_wise = np.exp(M) / np.sum(np.exp(M), axis=1).reshape(-1,1)\n",
      "<ipython-input-45-a4641898d7d9>:78: RuntimeWarning: divide by zero encountered in true_divide\n",
      "  shape_simmilarity_matrix = bi_directional_softmax(shape_simmilarity_matrix/(np.std(shape_simmilarity_matrix)))\n",
      "<ipython-input-45-a4641898d7d9>:50: RuntimeWarning: invalid value encountered in true_divide\n",
      "  row_wise = np.exp(M) / np.sum(np.exp(M), axis=0).reshape(1,-1)\n",
      "<ipython-input-45-a4641898d7d9>:51: RuntimeWarning: invalid value encountered in true_divide\n",
      "  column_wise = np.exp(M) / np.sum(np.exp(M), axis=1).reshape(-1,1)\n",
      "<ipython-input-45-a4641898d7d9>:78: RuntimeWarning: divide by zero encountered in true_divide\n",
      "  shape_simmilarity_matrix = bi_directional_softmax(shape_simmilarity_matrix/(np.std(shape_simmilarity_matrix)))\n",
      "<ipython-input-45-a4641898d7d9>:50: RuntimeWarning: invalid value encountered in true_divide\n",
      "  row_wise = np.exp(M) / np.sum(np.exp(M), axis=0).reshape(1,-1)\n",
      "<ipython-input-45-a4641898d7d9>:51: RuntimeWarning: invalid value encountered in true_divide\n",
      "  column_wise = np.exp(M) / np.sum(np.exp(M), axis=1).reshape(-1,1)\n",
      "<ipython-input-45-a4641898d7d9>:78: RuntimeWarning: divide by zero encountered in true_divide\n",
      "  shape_simmilarity_matrix = bi_directional_softmax(shape_simmilarity_matrix/(np.std(shape_simmilarity_matrix)))\n",
      "<ipython-input-45-a4641898d7d9>:50: RuntimeWarning: invalid value encountered in true_divide\n",
      "  row_wise = np.exp(M) / np.sum(np.exp(M), axis=0).reshape(1,-1)\n",
      "<ipython-input-45-a4641898d7d9>:51: RuntimeWarning: invalid value encountered in true_divide\n",
      "  column_wise = np.exp(M) / np.sum(np.exp(M), axis=1).reshape(-1,1)\n",
      "<ipython-input-45-a4641898d7d9>:78: RuntimeWarning: divide by zero encountered in true_divide\n",
      "  shape_simmilarity_matrix = bi_directional_softmax(shape_simmilarity_matrix/(np.std(shape_simmilarity_matrix)))\n",
      "<ipython-input-45-a4641898d7d9>:50: RuntimeWarning: invalid value encountered in true_divide\n",
      "  row_wise = np.exp(M) / np.sum(np.exp(M), axis=0).reshape(1,-1)\n",
      "<ipython-input-45-a4641898d7d9>:51: RuntimeWarning: invalid value encountered in true_divide\n",
      "  column_wise = np.exp(M) / np.sum(np.exp(M), axis=1).reshape(-1,1)\n",
      "<ipython-input-45-a4641898d7d9>:78: RuntimeWarning: divide by zero encountered in true_divide\n",
      "  shape_simmilarity_matrix = bi_directional_softmax(shape_simmilarity_matrix/(np.std(shape_simmilarity_matrix)))\n",
      "<ipython-input-45-a4641898d7d9>:50: RuntimeWarning: invalid value encountered in true_divide\n",
      "  row_wise = np.exp(M) / np.sum(np.exp(M), axis=0).reshape(1,-1)\n",
      "<ipython-input-45-a4641898d7d9>:51: RuntimeWarning: invalid value encountered in true_divide\n",
      "  column_wise = np.exp(M) / np.sum(np.exp(M), axis=1).reshape(-1,1)\n",
      "<ipython-input-45-a4641898d7d9>:78: RuntimeWarning: divide by zero encountered in true_divide\n",
      "  shape_simmilarity_matrix = bi_directional_softmax(shape_simmilarity_matrix/(np.std(shape_simmilarity_matrix)))\n",
      "<ipython-input-45-a4641898d7d9>:50: RuntimeWarning: invalid value encountered in true_divide\n",
      "  row_wise = np.exp(M) / np.sum(np.exp(M), axis=0).reshape(1,-1)\n",
      "<ipython-input-45-a4641898d7d9>:51: RuntimeWarning: invalid value encountered in true_divide\n",
      "  column_wise = np.exp(M) / np.sum(np.exp(M), axis=1).reshape(-1,1)\n",
      "<ipython-input-45-a4641898d7d9>:78: RuntimeWarning: divide by zero encountered in true_divide\n",
      "  shape_simmilarity_matrix = bi_directional_softmax(shape_simmilarity_matrix/(np.std(shape_simmilarity_matrix)))\n",
      "<ipython-input-45-a4641898d7d9>:50: RuntimeWarning: invalid value encountered in true_divide\n",
      "  row_wise = np.exp(M) / np.sum(np.exp(M), axis=0).reshape(1,-1)\n",
      "<ipython-input-45-a4641898d7d9>:51: RuntimeWarning: invalid value encountered in true_divide\n",
      "  column_wise = np.exp(M) / np.sum(np.exp(M), axis=1).reshape(-1,1)\n",
      "<ipython-input-45-a4641898d7d9>:78: RuntimeWarning: divide by zero encountered in true_divide\n",
      "  shape_simmilarity_matrix = bi_directional_softmax(shape_simmilarity_matrix/(np.std(shape_simmilarity_matrix)))\n",
      "<ipython-input-45-a4641898d7d9>:50: RuntimeWarning: invalid value encountered in true_divide\n",
      "  row_wise = np.exp(M) / np.sum(np.exp(M), axis=0).reshape(1,-1)\n",
      "<ipython-input-45-a4641898d7d9>:51: RuntimeWarning: invalid value encountered in true_divide\n",
      "  column_wise = np.exp(M) / np.sum(np.exp(M), axis=1).reshape(-1,1)\n",
      "<ipython-input-45-a4641898d7d9>:78: RuntimeWarning: divide by zero encountered in true_divide\n",
      "  shape_simmilarity_matrix = bi_directional_softmax(shape_simmilarity_matrix/(np.std(shape_simmilarity_matrix)))\n",
      "<ipython-input-45-a4641898d7d9>:50: RuntimeWarning: invalid value encountered in true_divide\n",
      "  row_wise = np.exp(M) / np.sum(np.exp(M), axis=0).reshape(1,-1)\n",
      "<ipython-input-45-a4641898d7d9>:51: RuntimeWarning: invalid value encountered in true_divide\n",
      "  column_wise = np.exp(M) / np.sum(np.exp(M), axis=1).reshape(-1,1)\n",
      "<ipython-input-45-a4641898d7d9>:78: RuntimeWarning: divide by zero encountered in true_divide\n",
      "  shape_simmilarity_matrix = bi_directional_softmax(shape_simmilarity_matrix/(np.std(shape_simmilarity_matrix)))\n",
      "<ipython-input-45-a4641898d7d9>:50: RuntimeWarning: invalid value encountered in true_divide\n",
      "  row_wise = np.exp(M) / np.sum(np.exp(M), axis=0).reshape(1,-1)\n",
      "<ipython-input-45-a4641898d7d9>:51: RuntimeWarning: invalid value encountered in true_divide\n",
      "  column_wise = np.exp(M) / np.sum(np.exp(M), axis=1).reshape(-1,1)\n"
     ]
    },
    {
     "name": "stderr",
     "output_type": "stream",
     "text": [
      "<ipython-input-45-a4641898d7d9>:78: RuntimeWarning: divide by zero encountered in true_divide\n",
      "  shape_simmilarity_matrix = bi_directional_softmax(shape_simmilarity_matrix/(np.std(shape_simmilarity_matrix)))\n",
      "<ipython-input-45-a4641898d7d9>:50: RuntimeWarning: invalid value encountered in true_divide\n",
      "  row_wise = np.exp(M) / np.sum(np.exp(M), axis=0).reshape(1,-1)\n",
      "<ipython-input-45-a4641898d7d9>:51: RuntimeWarning: invalid value encountered in true_divide\n",
      "  column_wise = np.exp(M) / np.sum(np.exp(M), axis=1).reshape(-1,1)\n",
      "<ipython-input-45-a4641898d7d9>:78: RuntimeWarning: divide by zero encountered in true_divide\n",
      "  shape_simmilarity_matrix = bi_directional_softmax(shape_simmilarity_matrix/(np.std(shape_simmilarity_matrix)))\n",
      "<ipython-input-45-a4641898d7d9>:50: RuntimeWarning: invalid value encountered in true_divide\n",
      "  row_wise = np.exp(M) / np.sum(np.exp(M), axis=0).reshape(1,-1)\n",
      "<ipython-input-45-a4641898d7d9>:51: RuntimeWarning: invalid value encountered in true_divide\n",
      "  column_wise = np.exp(M) / np.sum(np.exp(M), axis=1).reshape(-1,1)\n",
      "<ipython-input-45-a4641898d7d9>:78: RuntimeWarning: divide by zero encountered in true_divide\n",
      "  shape_simmilarity_matrix = bi_directional_softmax(shape_simmilarity_matrix/(np.std(shape_simmilarity_matrix)))\n",
      "<ipython-input-45-a4641898d7d9>:50: RuntimeWarning: invalid value encountered in true_divide\n",
      "  row_wise = np.exp(M) / np.sum(np.exp(M), axis=0).reshape(1,-1)\n",
      "<ipython-input-45-a4641898d7d9>:51: RuntimeWarning: invalid value encountered in true_divide\n",
      "  column_wise = np.exp(M) / np.sum(np.exp(M), axis=1).reshape(-1,1)\n",
      "<ipython-input-45-a4641898d7d9>:78: RuntimeWarning: divide by zero encountered in true_divide\n",
      "  shape_simmilarity_matrix = bi_directional_softmax(shape_simmilarity_matrix/(np.std(shape_simmilarity_matrix)))\n",
      "<ipython-input-45-a4641898d7d9>:50: RuntimeWarning: invalid value encountered in true_divide\n",
      "  row_wise = np.exp(M) / np.sum(np.exp(M), axis=0).reshape(1,-1)\n",
      "<ipython-input-45-a4641898d7d9>:51: RuntimeWarning: invalid value encountered in true_divide\n",
      "  column_wise = np.exp(M) / np.sum(np.exp(M), axis=1).reshape(-1,1)\n",
      "<ipython-input-45-a4641898d7d9>:78: RuntimeWarning: divide by zero encountered in true_divide\n",
      "  shape_simmilarity_matrix = bi_directional_softmax(shape_simmilarity_matrix/(np.std(shape_simmilarity_matrix)))\n",
      "<ipython-input-45-a4641898d7d9>:50: RuntimeWarning: invalid value encountered in true_divide\n",
      "  row_wise = np.exp(M) / np.sum(np.exp(M), axis=0).reshape(1,-1)\n",
      "<ipython-input-45-a4641898d7d9>:51: RuntimeWarning: invalid value encountered in true_divide\n",
      "  column_wise = np.exp(M) / np.sum(np.exp(M), axis=1).reshape(-1,1)\n",
      "<ipython-input-45-a4641898d7d9>:78: RuntimeWarning: divide by zero encountered in true_divide\n",
      "  shape_simmilarity_matrix = bi_directional_softmax(shape_simmilarity_matrix/(np.std(shape_simmilarity_matrix)))\n",
      "<ipython-input-45-a4641898d7d9>:50: RuntimeWarning: invalid value encountered in true_divide\n",
      "  row_wise = np.exp(M) / np.sum(np.exp(M), axis=0).reshape(1,-1)\n",
      "<ipython-input-45-a4641898d7d9>:51: RuntimeWarning: invalid value encountered in true_divide\n",
      "  column_wise = np.exp(M) / np.sum(np.exp(M), axis=1).reshape(-1,1)\n",
      "<ipython-input-45-a4641898d7d9>:78: RuntimeWarning: divide by zero encountered in true_divide\n",
      "  shape_simmilarity_matrix = bi_directional_softmax(shape_simmilarity_matrix/(np.std(shape_simmilarity_matrix)))\n",
      "<ipython-input-45-a4641898d7d9>:50: RuntimeWarning: invalid value encountered in true_divide\n",
      "  row_wise = np.exp(M) / np.sum(np.exp(M), axis=0).reshape(1,-1)\n",
      "<ipython-input-45-a4641898d7d9>:51: RuntimeWarning: invalid value encountered in true_divide\n",
      "  column_wise = np.exp(M) / np.sum(np.exp(M), axis=1).reshape(-1,1)\n",
      "<ipython-input-45-a4641898d7d9>:78: RuntimeWarning: divide by zero encountered in true_divide\n",
      "  shape_simmilarity_matrix = bi_directional_softmax(shape_simmilarity_matrix/(np.std(shape_simmilarity_matrix)))\n",
      "<ipython-input-45-a4641898d7d9>:50: RuntimeWarning: invalid value encountered in true_divide\n",
      "  row_wise = np.exp(M) / np.sum(np.exp(M), axis=0).reshape(1,-1)\n",
      "<ipython-input-45-a4641898d7d9>:51: RuntimeWarning: invalid value encountered in true_divide\n",
      "  column_wise = np.exp(M) / np.sum(np.exp(M), axis=1).reshape(-1,1)\n",
      "<ipython-input-45-a4641898d7d9>:78: RuntimeWarning: divide by zero encountered in true_divide\n",
      "  shape_simmilarity_matrix = bi_directional_softmax(shape_simmilarity_matrix/(np.std(shape_simmilarity_matrix)))\n",
      "<ipython-input-45-a4641898d7d9>:50: RuntimeWarning: invalid value encountered in true_divide\n",
      "  row_wise = np.exp(M) / np.sum(np.exp(M), axis=0).reshape(1,-1)\n",
      "<ipython-input-45-a4641898d7d9>:51: RuntimeWarning: invalid value encountered in true_divide\n",
      "  column_wise = np.exp(M) / np.sum(np.exp(M), axis=1).reshape(-1,1)\n",
      "<ipython-input-45-a4641898d7d9>:78: RuntimeWarning: divide by zero encountered in true_divide\n",
      "  shape_simmilarity_matrix = bi_directional_softmax(shape_simmilarity_matrix/(np.std(shape_simmilarity_matrix)))\n",
      "<ipython-input-45-a4641898d7d9>:50: RuntimeWarning: invalid value encountered in true_divide\n",
      "  row_wise = np.exp(M) / np.sum(np.exp(M), axis=0).reshape(1,-1)\n",
      "<ipython-input-45-a4641898d7d9>:51: RuntimeWarning: invalid value encountered in true_divide\n",
      "  column_wise = np.exp(M) / np.sum(np.exp(M), axis=1).reshape(-1,1)\n",
      "<ipython-input-45-a4641898d7d9>:78: RuntimeWarning: divide by zero encountered in true_divide\n",
      "  shape_simmilarity_matrix = bi_directional_softmax(shape_simmilarity_matrix/(np.std(shape_simmilarity_matrix)))\n",
      "<ipython-input-45-a4641898d7d9>:50: RuntimeWarning: invalid value encountered in true_divide\n",
      "  row_wise = np.exp(M) / np.sum(np.exp(M), axis=0).reshape(1,-1)\n",
      "<ipython-input-45-a4641898d7d9>:51: RuntimeWarning: invalid value encountered in true_divide\n",
      "  column_wise = np.exp(M) / np.sum(np.exp(M), axis=1).reshape(-1,1)\n",
      "<ipython-input-45-a4641898d7d9>:78: RuntimeWarning: divide by zero encountered in true_divide\n",
      "  shape_simmilarity_matrix = bi_directional_softmax(shape_simmilarity_matrix/(np.std(shape_simmilarity_matrix)))\n",
      "<ipython-input-45-a4641898d7d9>:50: RuntimeWarning: invalid value encountered in true_divide\n",
      "  row_wise = np.exp(M) / np.sum(np.exp(M), axis=0).reshape(1,-1)\n",
      "<ipython-input-45-a4641898d7d9>:51: RuntimeWarning: invalid value encountered in true_divide\n",
      "  column_wise = np.exp(M) / np.sum(np.exp(M), axis=1).reshape(-1,1)\n",
      "<ipython-input-45-a4641898d7d9>:78: RuntimeWarning: divide by zero encountered in true_divide\n",
      "  shape_simmilarity_matrix = bi_directional_softmax(shape_simmilarity_matrix/(np.std(shape_simmilarity_matrix)))\n",
      "<ipython-input-45-a4641898d7d9>:50: RuntimeWarning: invalid value encountered in true_divide\n",
      "  row_wise = np.exp(M) / np.sum(np.exp(M), axis=0).reshape(1,-1)\n",
      "<ipython-input-45-a4641898d7d9>:51: RuntimeWarning: invalid value encountered in true_divide\n",
      "  column_wise = np.exp(M) / np.sum(np.exp(M), axis=1).reshape(-1,1)\n",
      "<ipython-input-45-a4641898d7d9>:78: RuntimeWarning: divide by zero encountered in true_divide\n",
      "  shape_simmilarity_matrix = bi_directional_softmax(shape_simmilarity_matrix/(np.std(shape_simmilarity_matrix)))\n",
      "<ipython-input-45-a4641898d7d9>:50: RuntimeWarning: invalid value encountered in true_divide\n",
      "  row_wise = np.exp(M) / np.sum(np.exp(M), axis=0).reshape(1,-1)\n",
      "<ipython-input-45-a4641898d7d9>:51: RuntimeWarning: invalid value encountered in true_divide\n",
      "  column_wise = np.exp(M) / np.sum(np.exp(M), axis=1).reshape(-1,1)\n",
      "<ipython-input-45-a4641898d7d9>:78: RuntimeWarning: divide by zero encountered in true_divide\n",
      "  shape_simmilarity_matrix = bi_directional_softmax(shape_simmilarity_matrix/(np.std(shape_simmilarity_matrix)))\n",
      "<ipython-input-45-a4641898d7d9>:50: RuntimeWarning: invalid value encountered in true_divide\n",
      "  row_wise = np.exp(M) / np.sum(np.exp(M), axis=0).reshape(1,-1)\n",
      "<ipython-input-45-a4641898d7d9>:51: RuntimeWarning: invalid value encountered in true_divide\n",
      "  column_wise = np.exp(M) / np.sum(np.exp(M), axis=1).reshape(-1,1)\n",
      "<ipython-input-45-a4641898d7d9>:50: RuntimeWarning: overflow encountered in exp\n",
      "  row_wise = np.exp(M) / np.sum(np.exp(M), axis=0).reshape(1,-1)\n",
      "<ipython-input-45-a4641898d7d9>:50: RuntimeWarning: invalid value encountered in true_divide\n",
      "  row_wise = np.exp(M) / np.sum(np.exp(M), axis=0).reshape(1,-1)\n",
      "<ipython-input-45-a4641898d7d9>:51: RuntimeWarning: overflow encountered in exp\n",
      "  column_wise = np.exp(M) / np.sum(np.exp(M), axis=1).reshape(-1,1)\n",
      "<ipython-input-45-a4641898d7d9>:51: RuntimeWarning: invalid value encountered in true_divide\n",
      "  column_wise = np.exp(M) / np.sum(np.exp(M), axis=1).reshape(-1,1)\n",
      "<ipython-input-45-a4641898d7d9>:78: RuntimeWarning: divide by zero encountered in true_divide\n",
      "  shape_simmilarity_matrix = bi_directional_softmax(shape_simmilarity_matrix/(np.std(shape_simmilarity_matrix)))\n",
      "<ipython-input-45-a4641898d7d9>:50: RuntimeWarning: invalid value encountered in true_divide\n",
      "  row_wise = np.exp(M) / np.sum(np.exp(M), axis=0).reshape(1,-1)\n",
      "<ipython-input-45-a4641898d7d9>:51: RuntimeWarning: invalid value encountered in true_divide\n",
      "  column_wise = np.exp(M) / np.sum(np.exp(M), axis=1).reshape(-1,1)\n",
      "<ipython-input-45-a4641898d7d9>:78: RuntimeWarning: divide by zero encountered in true_divide\n",
      "  shape_simmilarity_matrix = bi_directional_softmax(shape_simmilarity_matrix/(np.std(shape_simmilarity_matrix)))\n",
      "<ipython-input-45-a4641898d7d9>:50: RuntimeWarning: invalid value encountered in true_divide\n",
      "  row_wise = np.exp(M) / np.sum(np.exp(M), axis=0).reshape(1,-1)\n",
      "<ipython-input-45-a4641898d7d9>:51: RuntimeWarning: invalid value encountered in true_divide\n",
      "  column_wise = np.exp(M) / np.sum(np.exp(M), axis=1).reshape(-1,1)\n",
      "<ipython-input-45-a4641898d7d9>:78: RuntimeWarning: divide by zero encountered in true_divide\n",
      "  shape_simmilarity_matrix = bi_directional_softmax(shape_simmilarity_matrix/(np.std(shape_simmilarity_matrix)))\n",
      "<ipython-input-45-a4641898d7d9>:50: RuntimeWarning: invalid value encountered in true_divide\n",
      "  row_wise = np.exp(M) / np.sum(np.exp(M), axis=0).reshape(1,-1)\n",
      "<ipython-input-45-a4641898d7d9>:51: RuntimeWarning: invalid value encountered in true_divide\n",
      "  column_wise = np.exp(M) / np.sum(np.exp(M), axis=1).reshape(-1,1)\n"
     ]
    },
    {
     "name": "stderr",
     "output_type": "stream",
     "text": [
      "<ipython-input-45-a4641898d7d9>:78: RuntimeWarning: divide by zero encountered in true_divide\n",
      "  shape_simmilarity_matrix = bi_directional_softmax(shape_simmilarity_matrix/(np.std(shape_simmilarity_matrix)))\n",
      "<ipython-input-45-a4641898d7d9>:50: RuntimeWarning: invalid value encountered in true_divide\n",
      "  row_wise = np.exp(M) / np.sum(np.exp(M), axis=0).reshape(1,-1)\n",
      "<ipython-input-45-a4641898d7d9>:51: RuntimeWarning: invalid value encountered in true_divide\n",
      "  column_wise = np.exp(M) / np.sum(np.exp(M), axis=1).reshape(-1,1)\n",
      "<ipython-input-45-a4641898d7d9>:78: RuntimeWarning: divide by zero encountered in true_divide\n",
      "  shape_simmilarity_matrix = bi_directional_softmax(shape_simmilarity_matrix/(np.std(shape_simmilarity_matrix)))\n",
      "<ipython-input-45-a4641898d7d9>:50: RuntimeWarning: invalid value encountered in true_divide\n",
      "  row_wise = np.exp(M) / np.sum(np.exp(M), axis=0).reshape(1,-1)\n",
      "<ipython-input-45-a4641898d7d9>:51: RuntimeWarning: invalid value encountered in true_divide\n",
      "  column_wise = np.exp(M) / np.sum(np.exp(M), axis=1).reshape(-1,1)\n",
      "<ipython-input-45-a4641898d7d9>:50: RuntimeWarning: overflow encountered in exp\n",
      "  row_wise = np.exp(M) / np.sum(np.exp(M), axis=0).reshape(1,-1)\n",
      "<ipython-input-45-a4641898d7d9>:50: RuntimeWarning: invalid value encountered in true_divide\n",
      "  row_wise = np.exp(M) / np.sum(np.exp(M), axis=0).reshape(1,-1)\n",
      "<ipython-input-45-a4641898d7d9>:51: RuntimeWarning: overflow encountered in exp\n",
      "  column_wise = np.exp(M) / np.sum(np.exp(M), axis=1).reshape(-1,1)\n",
      "<ipython-input-45-a4641898d7d9>:51: RuntimeWarning: invalid value encountered in true_divide\n",
      "  column_wise = np.exp(M) / np.sum(np.exp(M), axis=1).reshape(-1,1)\n",
      "<ipython-input-45-a4641898d7d9>:78: RuntimeWarning: divide by zero encountered in true_divide\n",
      "  shape_simmilarity_matrix = bi_directional_softmax(shape_simmilarity_matrix/(np.std(shape_simmilarity_matrix)))\n",
      "<ipython-input-45-a4641898d7d9>:50: RuntimeWarning: invalid value encountered in true_divide\n",
      "  row_wise = np.exp(M) / np.sum(np.exp(M), axis=0).reshape(1,-1)\n",
      "<ipython-input-45-a4641898d7d9>:51: RuntimeWarning: invalid value encountered in true_divide\n",
      "  column_wise = np.exp(M) / np.sum(np.exp(M), axis=1).reshape(-1,1)\n",
      "<ipython-input-45-a4641898d7d9>:78: RuntimeWarning: divide by zero encountered in true_divide\n",
      "  shape_simmilarity_matrix = bi_directional_softmax(shape_simmilarity_matrix/(np.std(shape_simmilarity_matrix)))\n",
      "<ipython-input-45-a4641898d7d9>:50: RuntimeWarning: invalid value encountered in true_divide\n",
      "  row_wise = np.exp(M) / np.sum(np.exp(M), axis=0).reshape(1,-1)\n",
      "<ipython-input-45-a4641898d7d9>:51: RuntimeWarning: invalid value encountered in true_divide\n",
      "  column_wise = np.exp(M) / np.sum(np.exp(M), axis=1).reshape(-1,1)\n",
      "<ipython-input-45-a4641898d7d9>:78: RuntimeWarning: divide by zero encountered in true_divide\n",
      "  shape_simmilarity_matrix = bi_directional_softmax(shape_simmilarity_matrix/(np.std(shape_simmilarity_matrix)))\n",
      "<ipython-input-45-a4641898d7d9>:50: RuntimeWarning: invalid value encountered in true_divide\n",
      "  row_wise = np.exp(M) / np.sum(np.exp(M), axis=0).reshape(1,-1)\n",
      "<ipython-input-45-a4641898d7d9>:51: RuntimeWarning: invalid value encountered in true_divide\n",
      "  column_wise = np.exp(M) / np.sum(np.exp(M), axis=1).reshape(-1,1)\n",
      "<ipython-input-45-a4641898d7d9>:78: RuntimeWarning: divide by zero encountered in true_divide\n",
      "  shape_simmilarity_matrix = bi_directional_softmax(shape_simmilarity_matrix/(np.std(shape_simmilarity_matrix)))\n",
      "<ipython-input-45-a4641898d7d9>:50: RuntimeWarning: invalid value encountered in true_divide\n",
      "  row_wise = np.exp(M) / np.sum(np.exp(M), axis=0).reshape(1,-1)\n",
      "<ipython-input-45-a4641898d7d9>:51: RuntimeWarning: invalid value encountered in true_divide\n",
      "  column_wise = np.exp(M) / np.sum(np.exp(M), axis=1).reshape(-1,1)\n",
      "<ipython-input-45-a4641898d7d9>:78: RuntimeWarning: divide by zero encountered in true_divide\n",
      "  shape_simmilarity_matrix = bi_directional_softmax(shape_simmilarity_matrix/(np.std(shape_simmilarity_matrix)))\n",
      "<ipython-input-45-a4641898d7d9>:50: RuntimeWarning: invalid value encountered in true_divide\n",
      "  row_wise = np.exp(M) / np.sum(np.exp(M), axis=0).reshape(1,-1)\n",
      "<ipython-input-45-a4641898d7d9>:51: RuntimeWarning: invalid value encountered in true_divide\n",
      "  column_wise = np.exp(M) / np.sum(np.exp(M), axis=1).reshape(-1,1)\n",
      "<ipython-input-45-a4641898d7d9>:78: RuntimeWarning: divide by zero encountered in true_divide\n",
      "  shape_simmilarity_matrix = bi_directional_softmax(shape_simmilarity_matrix/(np.std(shape_simmilarity_matrix)))\n",
      "<ipython-input-45-a4641898d7d9>:50: RuntimeWarning: invalid value encountered in true_divide\n",
      "  row_wise = np.exp(M) / np.sum(np.exp(M), axis=0).reshape(1,-1)\n",
      "<ipython-input-45-a4641898d7d9>:51: RuntimeWarning: invalid value encountered in true_divide\n",
      "  column_wise = np.exp(M) / np.sum(np.exp(M), axis=1).reshape(-1,1)\n",
      "<ipython-input-45-a4641898d7d9>:78: RuntimeWarning: divide by zero encountered in true_divide\n",
      "  shape_simmilarity_matrix = bi_directional_softmax(shape_simmilarity_matrix/(np.std(shape_simmilarity_matrix)))\n",
      "<ipython-input-45-a4641898d7d9>:50: RuntimeWarning: invalid value encountered in true_divide\n",
      "  row_wise = np.exp(M) / np.sum(np.exp(M), axis=0).reshape(1,-1)\n",
      "<ipython-input-45-a4641898d7d9>:51: RuntimeWarning: invalid value encountered in true_divide\n",
      "  column_wise = np.exp(M) / np.sum(np.exp(M), axis=1).reshape(-1,1)\n",
      "<ipython-input-45-a4641898d7d9>:78: RuntimeWarning: divide by zero encountered in true_divide\n",
      "  shape_simmilarity_matrix = bi_directional_softmax(shape_simmilarity_matrix/(np.std(shape_simmilarity_matrix)))\n",
      "<ipython-input-45-a4641898d7d9>:50: RuntimeWarning: invalid value encountered in true_divide\n",
      "  row_wise = np.exp(M) / np.sum(np.exp(M), axis=0).reshape(1,-1)\n",
      "<ipython-input-45-a4641898d7d9>:51: RuntimeWarning: invalid value encountered in true_divide\n",
      "  column_wise = np.exp(M) / np.sum(np.exp(M), axis=1).reshape(-1,1)\n",
      "<ipython-input-45-a4641898d7d9>:78: RuntimeWarning: divide by zero encountered in true_divide\n",
      "  shape_simmilarity_matrix = bi_directional_softmax(shape_simmilarity_matrix/(np.std(shape_simmilarity_matrix)))\n",
      "<ipython-input-45-a4641898d7d9>:50: RuntimeWarning: invalid value encountered in true_divide\n",
      "  row_wise = np.exp(M) / np.sum(np.exp(M), axis=0).reshape(1,-1)\n",
      "<ipython-input-45-a4641898d7d9>:51: RuntimeWarning: invalid value encountered in true_divide\n",
      "  column_wise = np.exp(M) / np.sum(np.exp(M), axis=1).reshape(-1,1)\n",
      "<ipython-input-45-a4641898d7d9>:78: RuntimeWarning: divide by zero encountered in true_divide\n",
      "  shape_simmilarity_matrix = bi_directional_softmax(shape_simmilarity_matrix/(np.std(shape_simmilarity_matrix)))\n",
      "<ipython-input-45-a4641898d7d9>:50: RuntimeWarning: invalid value encountered in true_divide\n",
      "  row_wise = np.exp(M) / np.sum(np.exp(M), axis=0).reshape(1,-1)\n",
      "<ipython-input-45-a4641898d7d9>:51: RuntimeWarning: invalid value encountered in true_divide\n",
      "  column_wise = np.exp(M) / np.sum(np.exp(M), axis=1).reshape(-1,1)\n",
      "<ipython-input-45-a4641898d7d9>:78: RuntimeWarning: divide by zero encountered in true_divide\n",
      "  shape_simmilarity_matrix = bi_directional_softmax(shape_simmilarity_matrix/(np.std(shape_simmilarity_matrix)))\n",
      "<ipython-input-45-a4641898d7d9>:50: RuntimeWarning: invalid value encountered in true_divide\n",
      "  row_wise = np.exp(M) / np.sum(np.exp(M), axis=0).reshape(1,-1)\n",
      "<ipython-input-45-a4641898d7d9>:51: RuntimeWarning: invalid value encountered in true_divide\n",
      "  column_wise = np.exp(M) / np.sum(np.exp(M), axis=1).reshape(-1,1)\n",
      "<ipython-input-45-a4641898d7d9>:78: RuntimeWarning: divide by zero encountered in true_divide\n",
      "  shape_simmilarity_matrix = bi_directional_softmax(shape_simmilarity_matrix/(np.std(shape_simmilarity_matrix)))\n",
      "<ipython-input-45-a4641898d7d9>:50: RuntimeWarning: invalid value encountered in true_divide\n",
      "  row_wise = np.exp(M) / np.sum(np.exp(M), axis=0).reshape(1,-1)\n",
      "<ipython-input-45-a4641898d7d9>:51: RuntimeWarning: invalid value encountered in true_divide\n",
      "  column_wise = np.exp(M) / np.sum(np.exp(M), axis=1).reshape(-1,1)\n",
      "<ipython-input-45-a4641898d7d9>:78: RuntimeWarning: divide by zero encountered in true_divide\n",
      "  shape_simmilarity_matrix = bi_directional_softmax(shape_simmilarity_matrix/(np.std(shape_simmilarity_matrix)))\n",
      "<ipython-input-45-a4641898d7d9>:50: RuntimeWarning: invalid value encountered in true_divide\n",
      "  row_wise = np.exp(M) / np.sum(np.exp(M), axis=0).reshape(1,-1)\n",
      "<ipython-input-45-a4641898d7d9>:51: RuntimeWarning: invalid value encountered in true_divide\n",
      "  column_wise = np.exp(M) / np.sum(np.exp(M), axis=1).reshape(-1,1)\n",
      "<ipython-input-45-a4641898d7d9>:78: RuntimeWarning: divide by zero encountered in true_divide\n",
      "  shape_simmilarity_matrix = bi_directional_softmax(shape_simmilarity_matrix/(np.std(shape_simmilarity_matrix)))\n",
      "<ipython-input-45-a4641898d7d9>:50: RuntimeWarning: invalid value encountered in true_divide\n",
      "  row_wise = np.exp(M) / np.sum(np.exp(M), axis=0).reshape(1,-1)\n",
      "<ipython-input-45-a4641898d7d9>:51: RuntimeWarning: invalid value encountered in true_divide\n",
      "  column_wise = np.exp(M) / np.sum(np.exp(M), axis=1).reshape(-1,1)\n",
      "<ipython-input-45-a4641898d7d9>:78: RuntimeWarning: divide by zero encountered in true_divide\n",
      "  shape_simmilarity_matrix = bi_directional_softmax(shape_simmilarity_matrix/(np.std(shape_simmilarity_matrix)))\n",
      "<ipython-input-45-a4641898d7d9>:50: RuntimeWarning: invalid value encountered in true_divide\n",
      "  row_wise = np.exp(M) / np.sum(np.exp(M), axis=0).reshape(1,-1)\n",
      "<ipython-input-45-a4641898d7d9>:51: RuntimeWarning: invalid value encountered in true_divide\n",
      "  column_wise = np.exp(M) / np.sum(np.exp(M), axis=1).reshape(-1,1)\n"
     ]
    },
    {
     "name": "stderr",
     "output_type": "stream",
     "text": [
      "<ipython-input-45-a4641898d7d9>:78: RuntimeWarning: divide by zero encountered in true_divide\n",
      "  shape_simmilarity_matrix = bi_directional_softmax(shape_simmilarity_matrix/(np.std(shape_simmilarity_matrix)))\n",
      "<ipython-input-45-a4641898d7d9>:50: RuntimeWarning: invalid value encountered in true_divide\n",
      "  row_wise = np.exp(M) / np.sum(np.exp(M), axis=0).reshape(1,-1)\n",
      "<ipython-input-45-a4641898d7d9>:51: RuntimeWarning: invalid value encountered in true_divide\n",
      "  column_wise = np.exp(M) / np.sum(np.exp(M), axis=1).reshape(-1,1)\n",
      "<ipython-input-45-a4641898d7d9>:78: RuntimeWarning: divide by zero encountered in true_divide\n",
      "  shape_simmilarity_matrix = bi_directional_softmax(shape_simmilarity_matrix/(np.std(shape_simmilarity_matrix)))\n",
      "<ipython-input-45-a4641898d7d9>:50: RuntimeWarning: invalid value encountered in true_divide\n",
      "  row_wise = np.exp(M) / np.sum(np.exp(M), axis=0).reshape(1,-1)\n",
      "<ipython-input-45-a4641898d7d9>:51: RuntimeWarning: invalid value encountered in true_divide\n",
      "  column_wise = np.exp(M) / np.sum(np.exp(M), axis=1).reshape(-1,1)\n",
      "<ipython-input-45-a4641898d7d9>:78: RuntimeWarning: divide by zero encountered in true_divide\n",
      "  shape_simmilarity_matrix = bi_directional_softmax(shape_simmilarity_matrix/(np.std(shape_simmilarity_matrix)))\n",
      "<ipython-input-45-a4641898d7d9>:50: RuntimeWarning: invalid value encountered in true_divide\n",
      "  row_wise = np.exp(M) / np.sum(np.exp(M), axis=0).reshape(1,-1)\n",
      "<ipython-input-45-a4641898d7d9>:51: RuntimeWarning: invalid value encountered in true_divide\n",
      "  column_wise = np.exp(M) / np.sum(np.exp(M), axis=1).reshape(-1,1)\n",
      "<ipython-input-45-a4641898d7d9>:78: RuntimeWarning: divide by zero encountered in true_divide\n",
      "  shape_simmilarity_matrix = bi_directional_softmax(shape_simmilarity_matrix/(np.std(shape_simmilarity_matrix)))\n",
      "<ipython-input-45-a4641898d7d9>:50: RuntimeWarning: invalid value encountered in true_divide\n",
      "  row_wise = np.exp(M) / np.sum(np.exp(M), axis=0).reshape(1,-1)\n",
      "<ipython-input-45-a4641898d7d9>:51: RuntimeWarning: invalid value encountered in true_divide\n",
      "  column_wise = np.exp(M) / np.sum(np.exp(M), axis=1).reshape(-1,1)\n",
      "<ipython-input-45-a4641898d7d9>:78: RuntimeWarning: divide by zero encountered in true_divide\n",
      "  shape_simmilarity_matrix = bi_directional_softmax(shape_simmilarity_matrix/(np.std(shape_simmilarity_matrix)))\n",
      "<ipython-input-45-a4641898d7d9>:50: RuntimeWarning: invalid value encountered in true_divide\n",
      "  row_wise = np.exp(M) / np.sum(np.exp(M), axis=0).reshape(1,-1)\n",
      "<ipython-input-45-a4641898d7d9>:51: RuntimeWarning: invalid value encountered in true_divide\n",
      "  column_wise = np.exp(M) / np.sum(np.exp(M), axis=1).reshape(-1,1)\n",
      "<ipython-input-45-a4641898d7d9>:78: RuntimeWarning: divide by zero encountered in true_divide\n",
      "  shape_simmilarity_matrix = bi_directional_softmax(shape_simmilarity_matrix/(np.std(shape_simmilarity_matrix)))\n",
      "<ipython-input-45-a4641898d7d9>:50: RuntimeWarning: invalid value encountered in true_divide\n",
      "  row_wise = np.exp(M) / np.sum(np.exp(M), axis=0).reshape(1,-1)\n",
      "<ipython-input-45-a4641898d7d9>:51: RuntimeWarning: invalid value encountered in true_divide\n",
      "  column_wise = np.exp(M) / np.sum(np.exp(M), axis=1).reshape(-1,1)\n",
      "<ipython-input-45-a4641898d7d9>:78: RuntimeWarning: divide by zero encountered in true_divide\n",
      "  shape_simmilarity_matrix = bi_directional_softmax(shape_simmilarity_matrix/(np.std(shape_simmilarity_matrix)))\n",
      "<ipython-input-45-a4641898d7d9>:50: RuntimeWarning: invalid value encountered in true_divide\n",
      "  row_wise = np.exp(M) / np.sum(np.exp(M), axis=0).reshape(1,-1)\n",
      "<ipython-input-45-a4641898d7d9>:51: RuntimeWarning: invalid value encountered in true_divide\n",
      "  column_wise = np.exp(M) / np.sum(np.exp(M), axis=1).reshape(-1,1)\n",
      "<ipython-input-45-a4641898d7d9>:78: RuntimeWarning: divide by zero encountered in true_divide\n",
      "  shape_simmilarity_matrix = bi_directional_softmax(shape_simmilarity_matrix/(np.std(shape_simmilarity_matrix)))\n",
      "<ipython-input-45-a4641898d7d9>:50: RuntimeWarning: invalid value encountered in true_divide\n",
      "  row_wise = np.exp(M) / np.sum(np.exp(M), axis=0).reshape(1,-1)\n",
      "<ipython-input-45-a4641898d7d9>:51: RuntimeWarning: invalid value encountered in true_divide\n",
      "  column_wise = np.exp(M) / np.sum(np.exp(M), axis=1).reshape(-1,1)\n",
      "<ipython-input-45-a4641898d7d9>:78: RuntimeWarning: divide by zero encountered in true_divide\n",
      "  shape_simmilarity_matrix = bi_directional_softmax(shape_simmilarity_matrix/(np.std(shape_simmilarity_matrix)))\n",
      "<ipython-input-45-a4641898d7d9>:50: RuntimeWarning: invalid value encountered in true_divide\n",
      "  row_wise = np.exp(M) / np.sum(np.exp(M), axis=0).reshape(1,-1)\n",
      "<ipython-input-45-a4641898d7d9>:51: RuntimeWarning: invalid value encountered in true_divide\n",
      "  column_wise = np.exp(M) / np.sum(np.exp(M), axis=1).reshape(-1,1)\n",
      "<ipython-input-45-a4641898d7d9>:78: RuntimeWarning: divide by zero encountered in true_divide\n",
      "  shape_simmilarity_matrix = bi_directional_softmax(shape_simmilarity_matrix/(np.std(shape_simmilarity_matrix)))\n",
      "<ipython-input-45-a4641898d7d9>:50: RuntimeWarning: invalid value encountered in true_divide\n",
      "  row_wise = np.exp(M) / np.sum(np.exp(M), axis=0).reshape(1,-1)\n",
      "<ipython-input-45-a4641898d7d9>:51: RuntimeWarning: invalid value encountered in true_divide\n",
      "  column_wise = np.exp(M) / np.sum(np.exp(M), axis=1).reshape(-1,1)\n",
      "<ipython-input-45-a4641898d7d9>:78: RuntimeWarning: divide by zero encountered in true_divide\n",
      "  shape_simmilarity_matrix = bi_directional_softmax(shape_simmilarity_matrix/(np.std(shape_simmilarity_matrix)))\n",
      "<ipython-input-45-a4641898d7d9>:50: RuntimeWarning: invalid value encountered in true_divide\n",
      "  row_wise = np.exp(M) / np.sum(np.exp(M), axis=0).reshape(1,-1)\n",
      "<ipython-input-45-a4641898d7d9>:51: RuntimeWarning: invalid value encountered in true_divide\n",
      "  column_wise = np.exp(M) / np.sum(np.exp(M), axis=1).reshape(-1,1)\n",
      "<ipython-input-45-a4641898d7d9>:78: RuntimeWarning: divide by zero encountered in true_divide\n",
      "  shape_simmilarity_matrix = bi_directional_softmax(shape_simmilarity_matrix/(np.std(shape_simmilarity_matrix)))\n",
      "<ipython-input-45-a4641898d7d9>:50: RuntimeWarning: invalid value encountered in true_divide\n",
      "  row_wise = np.exp(M) / np.sum(np.exp(M), axis=0).reshape(1,-1)\n",
      "<ipython-input-45-a4641898d7d9>:51: RuntimeWarning: invalid value encountered in true_divide\n",
      "  column_wise = np.exp(M) / np.sum(np.exp(M), axis=1).reshape(-1,1)\n",
      "<ipython-input-45-a4641898d7d9>:78: RuntimeWarning: divide by zero encountered in true_divide\n",
      "  shape_simmilarity_matrix = bi_directional_softmax(shape_simmilarity_matrix/(np.std(shape_simmilarity_matrix)))\n",
      "<ipython-input-45-a4641898d7d9>:50: RuntimeWarning: invalid value encountered in true_divide\n",
      "  row_wise = np.exp(M) / np.sum(np.exp(M), axis=0).reshape(1,-1)\n",
      "<ipython-input-45-a4641898d7d9>:51: RuntimeWarning: invalid value encountered in true_divide\n",
      "  column_wise = np.exp(M) / np.sum(np.exp(M), axis=1).reshape(-1,1)\n",
      "<ipython-input-45-a4641898d7d9>:78: RuntimeWarning: divide by zero encountered in true_divide\n",
      "  shape_simmilarity_matrix = bi_directional_softmax(shape_simmilarity_matrix/(np.std(shape_simmilarity_matrix)))\n",
      "<ipython-input-45-a4641898d7d9>:50: RuntimeWarning: invalid value encountered in true_divide\n",
      "  row_wise = np.exp(M) / np.sum(np.exp(M), axis=0).reshape(1,-1)\n",
      "<ipython-input-45-a4641898d7d9>:51: RuntimeWarning: invalid value encountered in true_divide\n",
      "  column_wise = np.exp(M) / np.sum(np.exp(M), axis=1).reshape(-1,1)\n",
      "<ipython-input-45-a4641898d7d9>:78: RuntimeWarning: divide by zero encountered in true_divide\n",
      "  shape_simmilarity_matrix = bi_directional_softmax(shape_simmilarity_matrix/(np.std(shape_simmilarity_matrix)))\n",
      "<ipython-input-45-a4641898d7d9>:50: RuntimeWarning: invalid value encountered in true_divide\n",
      "  row_wise = np.exp(M) / np.sum(np.exp(M), axis=0).reshape(1,-1)\n",
      "<ipython-input-45-a4641898d7d9>:51: RuntimeWarning: invalid value encountered in true_divide\n",
      "  column_wise = np.exp(M) / np.sum(np.exp(M), axis=1).reshape(-1,1)\n",
      "<ipython-input-45-a4641898d7d9>:78: RuntimeWarning: divide by zero encountered in true_divide\n",
      "  shape_simmilarity_matrix = bi_directional_softmax(shape_simmilarity_matrix/(np.std(shape_simmilarity_matrix)))\n",
      "<ipython-input-45-a4641898d7d9>:50: RuntimeWarning: invalid value encountered in true_divide\n",
      "  row_wise = np.exp(M) / np.sum(np.exp(M), axis=0).reshape(1,-1)\n",
      "<ipython-input-45-a4641898d7d9>:51: RuntimeWarning: invalid value encountered in true_divide\n",
      "  column_wise = np.exp(M) / np.sum(np.exp(M), axis=1).reshape(-1,1)\n",
      "<ipython-input-45-a4641898d7d9>:78: RuntimeWarning: divide by zero encountered in true_divide\n",
      "  shape_simmilarity_matrix = bi_directional_softmax(shape_simmilarity_matrix/(np.std(shape_simmilarity_matrix)))\n",
      "<ipython-input-45-a4641898d7d9>:50: RuntimeWarning: invalid value encountered in true_divide\n",
      "  row_wise = np.exp(M) / np.sum(np.exp(M), axis=0).reshape(1,-1)\n",
      "<ipython-input-45-a4641898d7d9>:51: RuntimeWarning: invalid value encountered in true_divide\n",
      "  column_wise = np.exp(M) / np.sum(np.exp(M), axis=1).reshape(-1,1)\n",
      "<ipython-input-45-a4641898d7d9>:78: RuntimeWarning: divide by zero encountered in true_divide\n",
      "  shape_simmilarity_matrix = bi_directional_softmax(shape_simmilarity_matrix/(np.std(shape_simmilarity_matrix)))\n",
      "<ipython-input-45-a4641898d7d9>:50: RuntimeWarning: invalid value encountered in true_divide\n",
      "  row_wise = np.exp(M) / np.sum(np.exp(M), axis=0).reshape(1,-1)\n",
      "<ipython-input-45-a4641898d7d9>:51: RuntimeWarning: invalid value encountered in true_divide\n",
      "  column_wise = np.exp(M) / np.sum(np.exp(M), axis=1).reshape(-1,1)\n"
     ]
    },
    {
     "name": "stderr",
     "output_type": "stream",
     "text": [
      "<ipython-input-45-a4641898d7d9>:78: RuntimeWarning: divide by zero encountered in true_divide\n",
      "  shape_simmilarity_matrix = bi_directional_softmax(shape_simmilarity_matrix/(np.std(shape_simmilarity_matrix)))\n",
      "<ipython-input-45-a4641898d7d9>:50: RuntimeWarning: invalid value encountered in true_divide\n",
      "  row_wise = np.exp(M) / np.sum(np.exp(M), axis=0).reshape(1,-1)\n",
      "<ipython-input-45-a4641898d7d9>:51: RuntimeWarning: invalid value encountered in true_divide\n",
      "  column_wise = np.exp(M) / np.sum(np.exp(M), axis=1).reshape(-1,1)\n",
      "<ipython-input-45-a4641898d7d9>:78: RuntimeWarning: divide by zero encountered in true_divide\n",
      "  shape_simmilarity_matrix = bi_directional_softmax(shape_simmilarity_matrix/(np.std(shape_simmilarity_matrix)))\n",
      "<ipython-input-45-a4641898d7d9>:50: RuntimeWarning: invalid value encountered in true_divide\n",
      "  row_wise = np.exp(M) / np.sum(np.exp(M), axis=0).reshape(1,-1)\n",
      "<ipython-input-45-a4641898d7d9>:51: RuntimeWarning: invalid value encountered in true_divide\n",
      "  column_wise = np.exp(M) / np.sum(np.exp(M), axis=1).reshape(-1,1)\n",
      "<ipython-input-45-a4641898d7d9>:78: RuntimeWarning: divide by zero encountered in true_divide\n",
      "  shape_simmilarity_matrix = bi_directional_softmax(shape_simmilarity_matrix/(np.std(shape_simmilarity_matrix)))\n",
      "<ipython-input-45-a4641898d7d9>:50: RuntimeWarning: invalid value encountered in true_divide\n",
      "  row_wise = np.exp(M) / np.sum(np.exp(M), axis=0).reshape(1,-1)\n",
      "<ipython-input-45-a4641898d7d9>:51: RuntimeWarning: invalid value encountered in true_divide\n",
      "  column_wise = np.exp(M) / np.sum(np.exp(M), axis=1).reshape(-1,1)\n",
      "<ipython-input-45-a4641898d7d9>:78: RuntimeWarning: divide by zero encountered in true_divide\n",
      "  shape_simmilarity_matrix = bi_directional_softmax(shape_simmilarity_matrix/(np.std(shape_simmilarity_matrix)))\n",
      "<ipython-input-45-a4641898d7d9>:50: RuntimeWarning: invalid value encountered in true_divide\n",
      "  row_wise = np.exp(M) / np.sum(np.exp(M), axis=0).reshape(1,-1)\n",
      "<ipython-input-45-a4641898d7d9>:51: RuntimeWarning: invalid value encountered in true_divide\n",
      "  column_wise = np.exp(M) / np.sum(np.exp(M), axis=1).reshape(-1,1)\n",
      "<ipython-input-45-a4641898d7d9>:78: RuntimeWarning: divide by zero encountered in true_divide\n",
      "  shape_simmilarity_matrix = bi_directional_softmax(shape_simmilarity_matrix/(np.std(shape_simmilarity_matrix)))\n",
      "<ipython-input-45-a4641898d7d9>:50: RuntimeWarning: invalid value encountered in true_divide\n",
      "  row_wise = np.exp(M) / np.sum(np.exp(M), axis=0).reshape(1,-1)\n",
      "<ipython-input-45-a4641898d7d9>:51: RuntimeWarning: invalid value encountered in true_divide\n",
      "  column_wise = np.exp(M) / np.sum(np.exp(M), axis=1).reshape(-1,1)\n",
      "<ipython-input-45-a4641898d7d9>:78: RuntimeWarning: divide by zero encountered in true_divide\n",
      "  shape_simmilarity_matrix = bi_directional_softmax(shape_simmilarity_matrix/(np.std(shape_simmilarity_matrix)))\n",
      "<ipython-input-45-a4641898d7d9>:50: RuntimeWarning: invalid value encountered in true_divide\n",
      "  row_wise = np.exp(M) / np.sum(np.exp(M), axis=0).reshape(1,-1)\n",
      "<ipython-input-45-a4641898d7d9>:51: RuntimeWarning: invalid value encountered in true_divide\n",
      "  column_wise = np.exp(M) / np.sum(np.exp(M), axis=1).reshape(-1,1)\n",
      "<ipython-input-45-a4641898d7d9>:78: RuntimeWarning: divide by zero encountered in true_divide\n",
      "  shape_simmilarity_matrix = bi_directional_softmax(shape_simmilarity_matrix/(np.std(shape_simmilarity_matrix)))\n",
      "<ipython-input-45-a4641898d7d9>:50: RuntimeWarning: invalid value encountered in true_divide\n",
      "  row_wise = np.exp(M) / np.sum(np.exp(M), axis=0).reshape(1,-1)\n",
      "<ipython-input-45-a4641898d7d9>:51: RuntimeWarning: invalid value encountered in true_divide\n",
      "  column_wise = np.exp(M) / np.sum(np.exp(M), axis=1).reshape(-1,1)\n",
      "<ipython-input-45-a4641898d7d9>:78: RuntimeWarning: divide by zero encountered in true_divide\n",
      "  shape_simmilarity_matrix = bi_directional_softmax(shape_simmilarity_matrix/(np.std(shape_simmilarity_matrix)))\n",
      "<ipython-input-45-a4641898d7d9>:50: RuntimeWarning: invalid value encountered in true_divide\n",
      "  row_wise = np.exp(M) / np.sum(np.exp(M), axis=0).reshape(1,-1)\n",
      "<ipython-input-45-a4641898d7d9>:51: RuntimeWarning: invalid value encountered in true_divide\n",
      "  column_wise = np.exp(M) / np.sum(np.exp(M), axis=1).reshape(-1,1)\n",
      "<ipython-input-45-a4641898d7d9>:78: RuntimeWarning: divide by zero encountered in true_divide\n",
      "  shape_simmilarity_matrix = bi_directional_softmax(shape_simmilarity_matrix/(np.std(shape_simmilarity_matrix)))\n",
      "<ipython-input-45-a4641898d7d9>:50: RuntimeWarning: invalid value encountered in true_divide\n",
      "  row_wise = np.exp(M) / np.sum(np.exp(M), axis=0).reshape(1,-1)\n",
      "<ipython-input-45-a4641898d7d9>:51: RuntimeWarning: invalid value encountered in true_divide\n",
      "  column_wise = np.exp(M) / np.sum(np.exp(M), axis=1).reshape(-1,1)\n",
      "<ipython-input-45-a4641898d7d9>:78: RuntimeWarning: divide by zero encountered in true_divide\n",
      "  shape_simmilarity_matrix = bi_directional_softmax(shape_simmilarity_matrix/(np.std(shape_simmilarity_matrix)))\n",
      "<ipython-input-45-a4641898d7d9>:50: RuntimeWarning: invalid value encountered in true_divide\n",
      "  row_wise = np.exp(M) / np.sum(np.exp(M), axis=0).reshape(1,-1)\n",
      "<ipython-input-45-a4641898d7d9>:51: RuntimeWarning: invalid value encountered in true_divide\n",
      "  column_wise = np.exp(M) / np.sum(np.exp(M), axis=1).reshape(-1,1)\n",
      "<ipython-input-45-a4641898d7d9>:78: RuntimeWarning: divide by zero encountered in true_divide\n",
      "  shape_simmilarity_matrix = bi_directional_softmax(shape_simmilarity_matrix/(np.std(shape_simmilarity_matrix)))\n",
      "<ipython-input-45-a4641898d7d9>:50: RuntimeWarning: invalid value encountered in true_divide\n",
      "  row_wise = np.exp(M) / np.sum(np.exp(M), axis=0).reshape(1,-1)\n",
      "<ipython-input-45-a4641898d7d9>:51: RuntimeWarning: invalid value encountered in true_divide\n",
      "  column_wise = np.exp(M) / np.sum(np.exp(M), axis=1).reshape(-1,1)\n",
      "<ipython-input-45-a4641898d7d9>:78: RuntimeWarning: divide by zero encountered in true_divide\n",
      "  shape_simmilarity_matrix = bi_directional_softmax(shape_simmilarity_matrix/(np.std(shape_simmilarity_matrix)))\n",
      "<ipython-input-45-a4641898d7d9>:50: RuntimeWarning: invalid value encountered in true_divide\n",
      "  row_wise = np.exp(M) / np.sum(np.exp(M), axis=0).reshape(1,-1)\n",
      "<ipython-input-45-a4641898d7d9>:51: RuntimeWarning: invalid value encountered in true_divide\n",
      "  column_wise = np.exp(M) / np.sum(np.exp(M), axis=1).reshape(-1,1)\n",
      "<ipython-input-45-a4641898d7d9>:78: RuntimeWarning: divide by zero encountered in true_divide\n",
      "  shape_simmilarity_matrix = bi_directional_softmax(shape_simmilarity_matrix/(np.std(shape_simmilarity_matrix)))\n",
      "<ipython-input-45-a4641898d7d9>:50: RuntimeWarning: invalid value encountered in true_divide\n",
      "  row_wise = np.exp(M) / np.sum(np.exp(M), axis=0).reshape(1,-1)\n",
      "<ipython-input-45-a4641898d7d9>:51: RuntimeWarning: invalid value encountered in true_divide\n",
      "  column_wise = np.exp(M) / np.sum(np.exp(M), axis=1).reshape(-1,1)\n",
      "<ipython-input-45-a4641898d7d9>:78: RuntimeWarning: divide by zero encountered in true_divide\n",
      "  shape_simmilarity_matrix = bi_directional_softmax(shape_simmilarity_matrix/(np.std(shape_simmilarity_matrix)))\n",
      "<ipython-input-45-a4641898d7d9>:50: RuntimeWarning: invalid value encountered in true_divide\n",
      "  row_wise = np.exp(M) / np.sum(np.exp(M), axis=0).reshape(1,-1)\n",
      "<ipython-input-45-a4641898d7d9>:51: RuntimeWarning: invalid value encountered in true_divide\n",
      "  column_wise = np.exp(M) / np.sum(np.exp(M), axis=1).reshape(-1,1)\n",
      "<ipython-input-45-a4641898d7d9>:78: RuntimeWarning: divide by zero encountered in true_divide\n",
      "  shape_simmilarity_matrix = bi_directional_softmax(shape_simmilarity_matrix/(np.std(shape_simmilarity_matrix)))\n",
      "<ipython-input-45-a4641898d7d9>:50: RuntimeWarning: invalid value encountered in true_divide\n",
      "  row_wise = np.exp(M) / np.sum(np.exp(M), axis=0).reshape(1,-1)\n",
      "<ipython-input-45-a4641898d7d9>:51: RuntimeWarning: invalid value encountered in true_divide\n",
      "  column_wise = np.exp(M) / np.sum(np.exp(M), axis=1).reshape(-1,1)\n",
      "<ipython-input-45-a4641898d7d9>:78: RuntimeWarning: divide by zero encountered in true_divide\n",
      "  shape_simmilarity_matrix = bi_directional_softmax(shape_simmilarity_matrix/(np.std(shape_simmilarity_matrix)))\n",
      "<ipython-input-45-a4641898d7d9>:50: RuntimeWarning: invalid value encountered in true_divide\n",
      "  row_wise = np.exp(M) / np.sum(np.exp(M), axis=0).reshape(1,-1)\n",
      "<ipython-input-45-a4641898d7d9>:51: RuntimeWarning: invalid value encountered in true_divide\n",
      "  column_wise = np.exp(M) / np.sum(np.exp(M), axis=1).reshape(-1,1)\n",
      "<ipython-input-45-a4641898d7d9>:78: RuntimeWarning: divide by zero encountered in true_divide\n",
      "  shape_simmilarity_matrix = bi_directional_softmax(shape_simmilarity_matrix/(np.std(shape_simmilarity_matrix)))\n",
      "<ipython-input-45-a4641898d7d9>:50: RuntimeWarning: invalid value encountered in true_divide\n",
      "  row_wise = np.exp(M) / np.sum(np.exp(M), axis=0).reshape(1,-1)\n",
      "<ipython-input-45-a4641898d7d9>:51: RuntimeWarning: invalid value encountered in true_divide\n",
      "  column_wise = np.exp(M) / np.sum(np.exp(M), axis=1).reshape(-1,1)\n",
      "<ipython-input-45-a4641898d7d9>:78: RuntimeWarning: divide by zero encountered in true_divide\n",
      "  shape_simmilarity_matrix = bi_directional_softmax(shape_simmilarity_matrix/(np.std(shape_simmilarity_matrix)))\n",
      "<ipython-input-45-a4641898d7d9>:50: RuntimeWarning: invalid value encountered in true_divide\n",
      "  row_wise = np.exp(M) / np.sum(np.exp(M), axis=0).reshape(1,-1)\n",
      "<ipython-input-45-a4641898d7d9>:51: RuntimeWarning: invalid value encountered in true_divide\n",
      "  column_wise = np.exp(M) / np.sum(np.exp(M), axis=1).reshape(-1,1)\n",
      "<ipython-input-45-a4641898d7d9>:78: RuntimeWarning: divide by zero encountered in true_divide\n",
      "  shape_simmilarity_matrix = bi_directional_softmax(shape_simmilarity_matrix/(np.std(shape_simmilarity_matrix)))\n",
      "<ipython-input-45-a4641898d7d9>:50: RuntimeWarning: invalid value encountered in true_divide\n",
      "  row_wise = np.exp(M) / np.sum(np.exp(M), axis=0).reshape(1,-1)\n",
      "<ipython-input-45-a4641898d7d9>:51: RuntimeWarning: invalid value encountered in true_divide\n",
      "  column_wise = np.exp(M) / np.sum(np.exp(M), axis=1).reshape(-1,1)\n"
     ]
    },
    {
     "name": "stderr",
     "output_type": "stream",
     "text": [
      "<ipython-input-45-a4641898d7d9>:78: RuntimeWarning: divide by zero encountered in true_divide\n",
      "  shape_simmilarity_matrix = bi_directional_softmax(shape_simmilarity_matrix/(np.std(shape_simmilarity_matrix)))\n",
      "<ipython-input-45-a4641898d7d9>:50: RuntimeWarning: invalid value encountered in true_divide\n",
      "  row_wise = np.exp(M) / np.sum(np.exp(M), axis=0).reshape(1,-1)\n",
      "<ipython-input-45-a4641898d7d9>:51: RuntimeWarning: invalid value encountered in true_divide\n",
      "  column_wise = np.exp(M) / np.sum(np.exp(M), axis=1).reshape(-1,1)\n",
      "<ipython-input-45-a4641898d7d9>:78: RuntimeWarning: divide by zero encountered in true_divide\n",
      "  shape_simmilarity_matrix = bi_directional_softmax(shape_simmilarity_matrix/(np.std(shape_simmilarity_matrix)))\n",
      "<ipython-input-45-a4641898d7d9>:50: RuntimeWarning: invalid value encountered in true_divide\n",
      "  row_wise = np.exp(M) / np.sum(np.exp(M), axis=0).reshape(1,-1)\n",
      "<ipython-input-45-a4641898d7d9>:51: RuntimeWarning: invalid value encountered in true_divide\n",
      "  column_wise = np.exp(M) / np.sum(np.exp(M), axis=1).reshape(-1,1)\n",
      "<ipython-input-45-a4641898d7d9>:78: RuntimeWarning: divide by zero encountered in true_divide\n",
      "  shape_simmilarity_matrix = bi_directional_softmax(shape_simmilarity_matrix/(np.std(shape_simmilarity_matrix)))\n",
      "<ipython-input-45-a4641898d7d9>:50: RuntimeWarning: invalid value encountered in true_divide\n",
      "  row_wise = np.exp(M) / np.sum(np.exp(M), axis=0).reshape(1,-1)\n",
      "<ipython-input-45-a4641898d7d9>:51: RuntimeWarning: invalid value encountered in true_divide\n",
      "  column_wise = np.exp(M) / np.sum(np.exp(M), axis=1).reshape(-1,1)\n",
      "<ipython-input-45-a4641898d7d9>:78: RuntimeWarning: divide by zero encountered in true_divide\n",
      "  shape_simmilarity_matrix = bi_directional_softmax(shape_simmilarity_matrix/(np.std(shape_simmilarity_matrix)))\n",
      "<ipython-input-45-a4641898d7d9>:50: RuntimeWarning: invalid value encountered in true_divide\n",
      "  row_wise = np.exp(M) / np.sum(np.exp(M), axis=0).reshape(1,-1)\n",
      "<ipython-input-45-a4641898d7d9>:51: RuntimeWarning: invalid value encountered in true_divide\n",
      "  column_wise = np.exp(M) / np.sum(np.exp(M), axis=1).reshape(-1,1)\n",
      "<ipython-input-45-a4641898d7d9>:78: RuntimeWarning: divide by zero encountered in true_divide\n",
      "  shape_simmilarity_matrix = bi_directional_softmax(shape_simmilarity_matrix/(np.std(shape_simmilarity_matrix)))\n",
      "<ipython-input-45-a4641898d7d9>:50: RuntimeWarning: invalid value encountered in true_divide\n",
      "  row_wise = np.exp(M) / np.sum(np.exp(M), axis=0).reshape(1,-1)\n",
      "<ipython-input-45-a4641898d7d9>:51: RuntimeWarning: invalid value encountered in true_divide\n",
      "  column_wise = np.exp(M) / np.sum(np.exp(M), axis=1).reshape(-1,1)\n",
      "<ipython-input-45-a4641898d7d9>:78: RuntimeWarning: divide by zero encountered in true_divide\n",
      "  shape_simmilarity_matrix = bi_directional_softmax(shape_simmilarity_matrix/(np.std(shape_simmilarity_matrix)))\n",
      "<ipython-input-45-a4641898d7d9>:50: RuntimeWarning: invalid value encountered in true_divide\n",
      "  row_wise = np.exp(M) / np.sum(np.exp(M), axis=0).reshape(1,-1)\n",
      "<ipython-input-45-a4641898d7d9>:51: RuntimeWarning: invalid value encountered in true_divide\n",
      "  column_wise = np.exp(M) / np.sum(np.exp(M), axis=1).reshape(-1,1)\n",
      "<ipython-input-45-a4641898d7d9>:78: RuntimeWarning: divide by zero encountered in true_divide\n",
      "  shape_simmilarity_matrix = bi_directional_softmax(shape_simmilarity_matrix/(np.std(shape_simmilarity_matrix)))\n",
      "<ipython-input-45-a4641898d7d9>:50: RuntimeWarning: invalid value encountered in true_divide\n",
      "  row_wise = np.exp(M) / np.sum(np.exp(M), axis=0).reshape(1,-1)\n",
      "<ipython-input-45-a4641898d7d9>:51: RuntimeWarning: invalid value encountered in true_divide\n",
      "  column_wise = np.exp(M) / np.sum(np.exp(M), axis=1).reshape(-1,1)\n",
      "<ipython-input-45-a4641898d7d9>:78: RuntimeWarning: divide by zero encountered in true_divide\n",
      "  shape_simmilarity_matrix = bi_directional_softmax(shape_simmilarity_matrix/(np.std(shape_simmilarity_matrix)))\n",
      "<ipython-input-45-a4641898d7d9>:50: RuntimeWarning: invalid value encountered in true_divide\n",
      "  row_wise = np.exp(M) / np.sum(np.exp(M), axis=0).reshape(1,-1)\n",
      "<ipython-input-45-a4641898d7d9>:51: RuntimeWarning: invalid value encountered in true_divide\n",
      "  column_wise = np.exp(M) / np.sum(np.exp(M), axis=1).reshape(-1,1)\n",
      "<ipython-input-45-a4641898d7d9>:78: RuntimeWarning: divide by zero encountered in true_divide\n",
      "  shape_simmilarity_matrix = bi_directional_softmax(shape_simmilarity_matrix/(np.std(shape_simmilarity_matrix)))\n",
      "<ipython-input-45-a4641898d7d9>:50: RuntimeWarning: invalid value encountered in true_divide\n",
      "  row_wise = np.exp(M) / np.sum(np.exp(M), axis=0).reshape(1,-1)\n",
      "<ipython-input-45-a4641898d7d9>:51: RuntimeWarning: invalid value encountered in true_divide\n",
      "  column_wise = np.exp(M) / np.sum(np.exp(M), axis=1).reshape(-1,1)\n",
      "<ipython-input-45-a4641898d7d9>:78: RuntimeWarning: divide by zero encountered in true_divide\n",
      "  shape_simmilarity_matrix = bi_directional_softmax(shape_simmilarity_matrix/(np.std(shape_simmilarity_matrix)))\n",
      "<ipython-input-45-a4641898d7d9>:50: RuntimeWarning: invalid value encountered in true_divide\n",
      "  row_wise = np.exp(M) / np.sum(np.exp(M), axis=0).reshape(1,-1)\n",
      "<ipython-input-45-a4641898d7d9>:51: RuntimeWarning: invalid value encountered in true_divide\n",
      "  column_wise = np.exp(M) / np.sum(np.exp(M), axis=1).reshape(-1,1)\n",
      "<ipython-input-45-a4641898d7d9>:78: RuntimeWarning: divide by zero encountered in true_divide\n",
      "  shape_simmilarity_matrix = bi_directional_softmax(shape_simmilarity_matrix/(np.std(shape_simmilarity_matrix)))\n",
      "<ipython-input-45-a4641898d7d9>:50: RuntimeWarning: invalid value encountered in true_divide\n",
      "  row_wise = np.exp(M) / np.sum(np.exp(M), axis=0).reshape(1,-1)\n",
      "<ipython-input-45-a4641898d7d9>:51: RuntimeWarning: invalid value encountered in true_divide\n",
      "  column_wise = np.exp(M) / np.sum(np.exp(M), axis=1).reshape(-1,1)\n",
      "<ipython-input-45-a4641898d7d9>:78: RuntimeWarning: divide by zero encountered in true_divide\n",
      "  shape_simmilarity_matrix = bi_directional_softmax(shape_simmilarity_matrix/(np.std(shape_simmilarity_matrix)))\n",
      "<ipython-input-45-a4641898d7d9>:50: RuntimeWarning: invalid value encountered in true_divide\n",
      "  row_wise = np.exp(M) / np.sum(np.exp(M), axis=0).reshape(1,-1)\n",
      "<ipython-input-45-a4641898d7d9>:51: RuntimeWarning: invalid value encountered in true_divide\n",
      "  column_wise = np.exp(M) / np.sum(np.exp(M), axis=1).reshape(-1,1)\n",
      "<ipython-input-45-a4641898d7d9>:78: RuntimeWarning: divide by zero encountered in true_divide\n",
      "  shape_simmilarity_matrix = bi_directional_softmax(shape_simmilarity_matrix/(np.std(shape_simmilarity_matrix)))\n",
      "<ipython-input-45-a4641898d7d9>:50: RuntimeWarning: invalid value encountered in true_divide\n",
      "  row_wise = np.exp(M) / np.sum(np.exp(M), axis=0).reshape(1,-1)\n",
      "<ipython-input-45-a4641898d7d9>:51: RuntimeWarning: invalid value encountered in true_divide\n",
      "  column_wise = np.exp(M) / np.sum(np.exp(M), axis=1).reshape(-1,1)\n",
      "<ipython-input-45-a4641898d7d9>:78: RuntimeWarning: divide by zero encountered in true_divide\n",
      "  shape_simmilarity_matrix = bi_directional_softmax(shape_simmilarity_matrix/(np.std(shape_simmilarity_matrix)))\n",
      "<ipython-input-45-a4641898d7d9>:50: RuntimeWarning: invalid value encountered in true_divide\n",
      "  row_wise = np.exp(M) / np.sum(np.exp(M), axis=0).reshape(1,-1)\n",
      "<ipython-input-45-a4641898d7d9>:51: RuntimeWarning: invalid value encountered in true_divide\n",
      "  column_wise = np.exp(M) / np.sum(np.exp(M), axis=1).reshape(-1,1)\n",
      "<ipython-input-45-a4641898d7d9>:78: RuntimeWarning: divide by zero encountered in true_divide\n",
      "  shape_simmilarity_matrix = bi_directional_softmax(shape_simmilarity_matrix/(np.std(shape_simmilarity_matrix)))\n",
      "<ipython-input-45-a4641898d7d9>:50: RuntimeWarning: invalid value encountered in true_divide\n",
      "  row_wise = np.exp(M) / np.sum(np.exp(M), axis=0).reshape(1,-1)\n",
      "<ipython-input-45-a4641898d7d9>:51: RuntimeWarning: invalid value encountered in true_divide\n",
      "  column_wise = np.exp(M) / np.sum(np.exp(M), axis=1).reshape(-1,1)\n",
      "<ipython-input-45-a4641898d7d9>:78: RuntimeWarning: divide by zero encountered in true_divide\n",
      "  shape_simmilarity_matrix = bi_directional_softmax(shape_simmilarity_matrix/(np.std(shape_simmilarity_matrix)))\n",
      "<ipython-input-45-a4641898d7d9>:50: RuntimeWarning: invalid value encountered in true_divide\n",
      "  row_wise = np.exp(M) / np.sum(np.exp(M), axis=0).reshape(1,-1)\n",
      "<ipython-input-45-a4641898d7d9>:51: RuntimeWarning: invalid value encountered in true_divide\n",
      "  column_wise = np.exp(M) / np.sum(np.exp(M), axis=1).reshape(-1,1)\n"
     ]
    },
    {
     "name": "stderr",
     "output_type": "stream",
     "text": [
      "<ipython-input-45-a4641898d7d9>:78: RuntimeWarning: divide by zero encountered in true_divide\n",
      "  shape_simmilarity_matrix = bi_directional_softmax(shape_simmilarity_matrix/(np.std(shape_simmilarity_matrix)))\n",
      "<ipython-input-45-a4641898d7d9>:50: RuntimeWarning: invalid value encountered in true_divide\n",
      "  row_wise = np.exp(M) / np.sum(np.exp(M), axis=0).reshape(1,-1)\n",
      "<ipython-input-45-a4641898d7d9>:51: RuntimeWarning: invalid value encountered in true_divide\n",
      "  column_wise = np.exp(M) / np.sum(np.exp(M), axis=1).reshape(-1,1)\n",
      "<ipython-input-45-a4641898d7d9>:78: RuntimeWarning: divide by zero encountered in true_divide\n",
      "  shape_simmilarity_matrix = bi_directional_softmax(shape_simmilarity_matrix/(np.std(shape_simmilarity_matrix)))\n",
      "<ipython-input-45-a4641898d7d9>:50: RuntimeWarning: invalid value encountered in true_divide\n",
      "  row_wise = np.exp(M) / np.sum(np.exp(M), axis=0).reshape(1,-1)\n",
      "<ipython-input-45-a4641898d7d9>:51: RuntimeWarning: invalid value encountered in true_divide\n",
      "  column_wise = np.exp(M) / np.sum(np.exp(M), axis=1).reshape(-1,1)\n",
      "<ipython-input-45-a4641898d7d9>:78: RuntimeWarning: divide by zero encountered in true_divide\n",
      "  shape_simmilarity_matrix = bi_directional_softmax(shape_simmilarity_matrix/(np.std(shape_simmilarity_matrix)))\n",
      "<ipython-input-45-a4641898d7d9>:50: RuntimeWarning: invalid value encountered in true_divide\n",
      "  row_wise = np.exp(M) / np.sum(np.exp(M), axis=0).reshape(1,-1)\n",
      "<ipython-input-45-a4641898d7d9>:51: RuntimeWarning: invalid value encountered in true_divide\n",
      "  column_wise = np.exp(M) / np.sum(np.exp(M), axis=1).reshape(-1,1)\n",
      "<ipython-input-45-a4641898d7d9>:78: RuntimeWarning: divide by zero encountered in true_divide\n",
      "  shape_simmilarity_matrix = bi_directional_softmax(shape_simmilarity_matrix/(np.std(shape_simmilarity_matrix)))\n",
      "<ipython-input-45-a4641898d7d9>:50: RuntimeWarning: invalid value encountered in true_divide\n",
      "  row_wise = np.exp(M) / np.sum(np.exp(M), axis=0).reshape(1,-1)\n",
      "<ipython-input-45-a4641898d7d9>:51: RuntimeWarning: invalid value encountered in true_divide\n",
      "  column_wise = np.exp(M) / np.sum(np.exp(M), axis=1).reshape(-1,1)\n",
      "<ipython-input-45-a4641898d7d9>:78: RuntimeWarning: divide by zero encountered in true_divide\n",
      "  shape_simmilarity_matrix = bi_directional_softmax(shape_simmilarity_matrix/(np.std(shape_simmilarity_matrix)))\n",
      "<ipython-input-45-a4641898d7d9>:50: RuntimeWarning: invalid value encountered in true_divide\n",
      "  row_wise = np.exp(M) / np.sum(np.exp(M), axis=0).reshape(1,-1)\n",
      "<ipython-input-45-a4641898d7d9>:51: RuntimeWarning: invalid value encountered in true_divide\n",
      "  column_wise = np.exp(M) / np.sum(np.exp(M), axis=1).reshape(-1,1)\n",
      "<ipython-input-45-a4641898d7d9>:78: RuntimeWarning: divide by zero encountered in true_divide\n",
      "  shape_simmilarity_matrix = bi_directional_softmax(shape_simmilarity_matrix/(np.std(shape_simmilarity_matrix)))\n",
      "<ipython-input-45-a4641898d7d9>:50: RuntimeWarning: invalid value encountered in true_divide\n",
      "  row_wise = np.exp(M) / np.sum(np.exp(M), axis=0).reshape(1,-1)\n",
      "<ipython-input-45-a4641898d7d9>:51: RuntimeWarning: invalid value encountered in true_divide\n",
      "  column_wise = np.exp(M) / np.sum(np.exp(M), axis=1).reshape(-1,1)\n",
      "<ipython-input-45-a4641898d7d9>:78: RuntimeWarning: divide by zero encountered in true_divide\n",
      "  shape_simmilarity_matrix = bi_directional_softmax(shape_simmilarity_matrix/(np.std(shape_simmilarity_matrix)))\n",
      "<ipython-input-45-a4641898d7d9>:50: RuntimeWarning: invalid value encountered in true_divide\n",
      "  row_wise = np.exp(M) / np.sum(np.exp(M), axis=0).reshape(1,-1)\n",
      "<ipython-input-45-a4641898d7d9>:51: RuntimeWarning: invalid value encountered in true_divide\n",
      "  column_wise = np.exp(M) / np.sum(np.exp(M), axis=1).reshape(-1,1)\n",
      "<ipython-input-45-a4641898d7d9>:78: RuntimeWarning: divide by zero encountered in true_divide\n",
      "  shape_simmilarity_matrix = bi_directional_softmax(shape_simmilarity_matrix/(np.std(shape_simmilarity_matrix)))\n",
      "<ipython-input-45-a4641898d7d9>:50: RuntimeWarning: invalid value encountered in true_divide\n",
      "  row_wise = np.exp(M) / np.sum(np.exp(M), axis=0).reshape(1,-1)\n",
      "<ipython-input-45-a4641898d7d9>:51: RuntimeWarning: invalid value encountered in true_divide\n",
      "  column_wise = np.exp(M) / np.sum(np.exp(M), axis=1).reshape(-1,1)\n",
      "<ipython-input-45-a4641898d7d9>:78: RuntimeWarning: divide by zero encountered in true_divide\n",
      "  shape_simmilarity_matrix = bi_directional_softmax(shape_simmilarity_matrix/(np.std(shape_simmilarity_matrix)))\n",
      "<ipython-input-45-a4641898d7d9>:50: RuntimeWarning: invalid value encountered in true_divide\n",
      "  row_wise = np.exp(M) / np.sum(np.exp(M), axis=0).reshape(1,-1)\n",
      "<ipython-input-45-a4641898d7d9>:51: RuntimeWarning: invalid value encountered in true_divide\n",
      "  column_wise = np.exp(M) / np.sum(np.exp(M), axis=1).reshape(-1,1)\n",
      "<ipython-input-45-a4641898d7d9>:78: RuntimeWarning: divide by zero encountered in true_divide\n",
      "  shape_simmilarity_matrix = bi_directional_softmax(shape_simmilarity_matrix/(np.std(shape_simmilarity_matrix)))\n",
      "<ipython-input-45-a4641898d7d9>:50: RuntimeWarning: invalid value encountered in true_divide\n",
      "  row_wise = np.exp(M) / np.sum(np.exp(M), axis=0).reshape(1,-1)\n",
      "<ipython-input-45-a4641898d7d9>:51: RuntimeWarning: invalid value encountered in true_divide\n",
      "  column_wise = np.exp(M) / np.sum(np.exp(M), axis=1).reshape(-1,1)\n",
      "<ipython-input-45-a4641898d7d9>:78: RuntimeWarning: divide by zero encountered in true_divide\n",
      "  shape_simmilarity_matrix = bi_directional_softmax(shape_simmilarity_matrix/(np.std(shape_simmilarity_matrix)))\n",
      "<ipython-input-45-a4641898d7d9>:50: RuntimeWarning: invalid value encountered in true_divide\n",
      "  row_wise = np.exp(M) / np.sum(np.exp(M), axis=0).reshape(1,-1)\n",
      "<ipython-input-45-a4641898d7d9>:51: RuntimeWarning: invalid value encountered in true_divide\n",
      "  column_wise = np.exp(M) / np.sum(np.exp(M), axis=1).reshape(-1,1)\n",
      "<ipython-input-45-a4641898d7d9>:78: RuntimeWarning: divide by zero encountered in true_divide\n",
      "  shape_simmilarity_matrix = bi_directional_softmax(shape_simmilarity_matrix/(np.std(shape_simmilarity_matrix)))\n",
      "<ipython-input-45-a4641898d7d9>:50: RuntimeWarning: invalid value encountered in true_divide\n",
      "  row_wise = np.exp(M) / np.sum(np.exp(M), axis=0).reshape(1,-1)\n",
      "<ipython-input-45-a4641898d7d9>:51: RuntimeWarning: invalid value encountered in true_divide\n",
      "  column_wise = np.exp(M) / np.sum(np.exp(M), axis=1).reshape(-1,1)\n",
      "<ipython-input-45-a4641898d7d9>:78: RuntimeWarning: divide by zero encountered in true_divide\n",
      "  shape_simmilarity_matrix = bi_directional_softmax(shape_simmilarity_matrix/(np.std(shape_simmilarity_matrix)))\n",
      "<ipython-input-45-a4641898d7d9>:50: RuntimeWarning: invalid value encountered in true_divide\n",
      "  row_wise = np.exp(M) / np.sum(np.exp(M), axis=0).reshape(1,-1)\n",
      "<ipython-input-45-a4641898d7d9>:51: RuntimeWarning: invalid value encountered in true_divide\n",
      "  column_wise = np.exp(M) / np.sum(np.exp(M), axis=1).reshape(-1,1)\n",
      "<ipython-input-45-a4641898d7d9>:78: RuntimeWarning: divide by zero encountered in true_divide\n",
      "  shape_simmilarity_matrix = bi_directional_softmax(shape_simmilarity_matrix/(np.std(shape_simmilarity_matrix)))\n",
      "<ipython-input-45-a4641898d7d9>:50: RuntimeWarning: invalid value encountered in true_divide\n",
      "  row_wise = np.exp(M) / np.sum(np.exp(M), axis=0).reshape(1,-1)\n",
      "<ipython-input-45-a4641898d7d9>:51: RuntimeWarning: invalid value encountered in true_divide\n",
      "  column_wise = np.exp(M) / np.sum(np.exp(M), axis=1).reshape(-1,1)\n"
     ]
    }
   ],
   "source": [
    "# Use the \"shingle\" generator to create rolling window\n",
    "mgen = MaskMapGenerator(curr_map, 0.03, 0.02)\n",
    "rgen = mgen.generate(n=600)\n",
    "#rgen = randmap_generator(gaussian_blob_prob=0.03, line_prob=0.02, n=600, starting_map=curr_map)\n",
    "# Create a dict to store anomaly score of each point\n",
    "rgen_shingled = rrcf.shingle(rgen, size=shingle_size)\n",
    "# For each shingle...\n",
    "start = True\n",
    "novelties = []\n",
    "for rmap in rgen_shingled:\n",
    "    #print(rmap.shape)\n",
    "    if start is True:\n",
    "        start = False\n",
    "        pass\n",
    "    else:\n",
    "        rmap_measures = novelty_measures(curr_map = rmap[1], prev_map=rmap[0], dbscan=dbscan)\n",
    "        novelties.append(rmap_measures)\n",
    "        codisps = []\n",
    "        for tree in forest:\n",
    "            new_index = np.random.randint(tree_size)\n",
    "            if len(tree.leaves) > tree_size:\n",
    "                tree.forget_point(new_index)\n",
    "                tree.insert_point(rmap_measures, index=new_index)\n",
    "                codisps.append(tree.codisp(new_index))\n",
    "            else:\n",
    "                tree.insert_point(rmap_measures, index=index)\n",
    "                codisps.append(tree.codisp(index))\n",
    "        new_codisp = np.mean(codisps)\n",
    "#         print(new_codisp)\n",
    "        codisp_hist.append(new_codisp)\n",
    "        index += 1"
   ]
  },
  {
   "cell_type": "code",
   "execution_count": 71,
   "metadata": {},
   "outputs": [
    {
     "data": {
      "text/plain": [
       "<matplotlib.collections.LineCollection at 0x7fcad15b7670>"
      ]
     },
     "execution_count": 71,
     "metadata": {},
     "output_type": "execute_result"
    },
    {
     "data": {
      "image/png": "[encoded data removed]",
      "text/plain": [
       "<Figure size 1008x504 with 1 Axes>"
      ]
     },
     "metadata": {
      "needs_background": "light"
     },
     "output_type": "display_data"
    }
   ],
   "source": [
    "fig, ax1 = plt.subplots(figsize=(14, 7))\n",
    "ax1.plot(codisp_hist)\n",
    "ax1.vlines(mgen.blobs.keys(), ymin=0, ymax=10, colors='red')\n",
    "ax1.vlines(mgen.lines.keys(), ymin=0, ymax=10, colors='green')"
   ]
  },
  {
   "cell_type": "code",
   "execution_count": 41,
   "metadata": {},
   "outputs": [
    {
     "data": {
      "text/plain": [
       "array([], shape=(0, 6), dtype=float64)"
      ]
     },
     "execution_count": 41,
     "metadata": {},
     "output_type": "execute_result"
    }
   ],
   "source": [
    "np.array(novelties)[lines]"
   ]
  },
  {
   "cell_type": "code",
   "execution_count": 42,
   "metadata": {},
   "outputs": [
    {
     "data": {
      "text/plain": [
       "array([], shape=(0, 6), dtype=float64)"
      ]
     },
     "execution_count": 42,
     "metadata": {},
     "output_type": "execute_result"
    }
   ],
   "source": [
    "np.array(novelties)[blobs]"
   ]
  },
  {
   "cell_type": "code",
   "execution_count": 43,
   "metadata": {},
   "outputs": [
    {
     "data": {
      "text/plain": [
       "[(41.0, 7.0, 1, 1, 0, 4),\n",
       " (32.0, 17.0, 1, 1, 0, 1),\n",
       " (0.0, 0.0, 0, 0, 0, 0),\n",
       " (34.0, 18.0, 0, 0, 0, 7),\n",
       " (30.0, 24.0, 2, 2, 0, 9),\n",
       " (29.0, 16.0, 2, 1, 4, 0),\n",
       " (26.0, 23.0, 2, 1, 0, 4),\n",
       " (0.0, 0.0, 0, 0, 0, 0),\n",
       " (0.0, 0.0, 1, 1, 0, 0),\n",
       " (0.0, 0.0, 1, 1, 0, 0),\n",
       " (30.0, 12.0, 1, 1, 0, 1),\n",
       " (32.0, 16.0, 1, 1, 0, 1),\n",
       " (32.0, 32.0, 2, 1, 0, 7),\n",
       " (30.0, 25.0, 0, 0, 0, 0),\n",
       " (32.0, 24.0, 0, 0, 0, 0),\n",
       " (0.0, 0.0, 1, 1, 0, 0),\n",
       " (33.0, 16.0, 1, 1, 0, 3),\n",
       " (0.0, 0.0, 1, 1, 0, 0),\n",
       " (30.0, 27.0, 1, 1, 0, 1),\n",
       " (22.0, 26.0, 1, 1, 0, 0),\n",
       " (24.0, 20.0, 1, 1, 0, 0),\n",
       " (27.0, 27.0, 1, 1, 1, 0),\n",
       " (22.0, 26.0, 1, 1, 0, 1),\n",
       " (0.0, 0.0, 1, 1, 0, 0),\n",
       " (33.0, 24.0, 1, 1, 0, 5),\n",
       " (42.0, 27.0, 1, 1, 1, 3),\n",
       " (0.0, 0.0, 1, 1, 0, 0),\n",
       " (34.0, 28.0, 1, 1, 0, 7),\n",
       " (0.0, 0.0, 1, 1, 0, 0),\n",
       " (29.0, 24.0, 1, 1, 0, 4),\n",
       " (33.0, 20.0, 1, 1, 0, 1),\n",
       " (34.0, 11.0, 0, 1, 12, 10),\n",
       " (27.0, 36.0, 0, 0, 0, 3),\n",
       " (0.0, 0.0, 1, 1, 0, 0),\n",
       " (27.0, 18.0, 2, 1, 0, 4),\n",
       " (32.0, 29.0, 0, 0, 0, 0),\n",
       " (27.0, 27.0, 0, 0, 0, 0),\n",
       " (24.0, 24.0, 0, 0, 0, 0),\n",
       " (29.0, 28.0, 0, 0, 0, 0),\n",
       " (46.0, 36.0, 0, 0, 0, 0),\n",
       " (0.0, 0.0, 1, 1, 0, 0),\n",
       " (34.0, 26.0, 0, 1, 17, 22),\n",
       " (0.0, 0.0, 2, 2, 0, 0),\n",
       " (0.0, 0.0, 0, 0, 0, 0),\n",
       " (0.0, 0.0, 0, 0, 0, 0),\n",
       " (35.0, 16.0, 2, 0, 6, 15),\n",
       " (0.0, 0.0, 0, 0, 0, 0),\n",
       " (0.0, 0.0, 0, 0, 0, 0),\n",
       " (0.0, 0.0, 0, 0, 0, 0),\n",
       " (31.0, 13.0, 1, 1, 0, 7),\n",
       " (0.0, 0.0, 0, 0, 0, 0),\n",
       " (34.0, 21.0, 0, 0, 0, 3),\n",
       " (33.0, 19.0, 0, 0, 0, 2),\n",
       " (27.0, 19.0, 0, 0, 0, 4),\n",
       " (39.0, 34.0, 2, 2, 0, 8),\n",
       " (28.0, 28.0, 0, 0, 0, 0),\n",
       " (31.0, 25.0, 0, 0, 0, 0),\n",
       " (32.0, 23.0, 0, 0, 0, 0),\n",
       " (38.0, 24.0, 0, 0, 0, 0),\n",
       " (31.0, 36.0, 0, 0, 0, 0),\n",
       " (0.0, 0.0, 0, 0, 0, 0),\n",
       " (41.0, 27.0, 0, 0, 12, 12),\n",
       " (21.0, 29.0, 2, 2, 0, 12),\n",
       " (0.0, 0.0, 1, 1, 0, 0),\n",
       " (30.0, 27.0, 1, 1, 0, 5),\n",
       " (32.0, 30.0, 1, 1, 0, 7),\n",
       " (0.0, 0.0, 0, 0, 0, 0),\n",
       " (0.0, 0.0, 0, 0, 0, 0),\n",
       " (20.0, 25.0, 1, 0, 0, 5),\n",
       " (36.0, 24.0, 1, 1, 0, 3),\n",
       " (35.0, 31.0, 1, 1, 1, 1),\n",
       " (28.0, 27.0, 1, 1, 0, 2),\n",
       " (0.0, 0.0, 1, 1, 0, 0),\n",
       " (34.0, 21.0, 1, 1, 0, 0),\n",
       " (39.0, 24.0, 1, 1, 0, 3),\n",
       " (35.0, 28.0, 1, 1, 0, 1),\n",
       " (0.0, 0.0, 1, 1, 0, 0),\n",
       " (0.0, 0.0, 1, 1, 0, 0),\n",
       " (0.0, 0.0, 0, 0, 0, 0),\n",
       " (0.0, 0.0, 0, 0, 0, 0),\n",
       " (29.0, 23.0, 0, 0, 0, 11),\n",
       " (32.0, 22.0, 1, 2, 9, 17),\n",
       " (0.0, 0.0, 0, 0, 0, 0),\n",
       " (38.0, 25.0, 0, 0, 0, 2),\n",
       " (0.0, 0.0, 0, 0, 0, 0),\n",
       " (31.0, 24.0, 0, 0, 0, 4),\n",
       " (26.0, 20.0, 1, 0, 0, 9),\n",
       " (42.0, 31.0, 2, 1, 0, 8),\n",
       " (28.0, 28.0, 0, 0, 0, 0),\n",
       " (0.0, 0.0, 1, 1, 0, 0),\n",
       " (0.0, 0.0, 0, 0, 0, 0),\n",
       " (22.0, 17.0, 0, 0, 0, 4),\n",
       " (0.0, 0.0, 0, 0, 0, 0),\n",
       " (33.0, 21.0, 1, 0, 2, 11),\n",
       " (26.0, 21.0, 2, 0, 5, 15),\n",
       " (32.0, 29.0, 2, 1, 0, 5),\n",
       " (0.0, 0.0, 1, 1, 0, 0),\n",
       " (28.0, 21.0, 1, 1, 0, 2),\n",
       " (26.0, 23.0, 1, 1, 0, 1),\n",
       " (32.0, 22.0, 2, 1, 0, 4),\n",
       " (28.0, 26.0, 0, 0, 0, 0),\n",
       " (36.0, 22.0, 0, 0, 0, 0),\n",
       " (0.0, 0.0, 0, 0, 0, 0),\n",
       " (34.0, 28.0, 0, 0, 0, 0),\n",
       " (31.0, 17.0, 0, 0, 0, 0),\n",
       " (30.0, 31.0, 0, 0, 0, 0),\n",
       " (0.0, 0.0, 1, 1, 0, 0),\n",
       " (0.0, 0.0, 0, 0, 0, 0),\n",
       " (0.0, 0.0, 0, 0, 0, 0),\n",
       " (29.0, 26.0, 0, 0, 0, 7),\n",
       " (0.0, 0.0, 0, 0, 0, 0),\n",
       " (0.0, 0.0, 0, 0, 0, 0),\n",
       " (0.0, 0.0, 0, 0, 0, 0),\n",
       " (0.0, 0.0, 0, 0, 0, 0),\n",
       " (0.0, 0.0, 0, 0, 0, 0),\n",
       " (29.0, 14.0, 2, 0, 4, 15),\n",
       " (0.0, 0.0, 1, 1, 0, 0),\n",
       " (0.0, 0.0, 1, 1, 0, 0),\n",
       " (27.0, 14.0, 1, 1, 0, 3),\n",
       " (28.0, 23.0, 2, 1, 0, 4),\n",
       " (36.0, 22.0, 0, 0, 0, 0),\n",
       " (25.0, 24.0, 0, 0, 0, 0),\n",
       " (31.0, 20.0, 0, 0, 0, 0),\n",
       " (0.0, 0.0, 1, 1, 0, 0),\n",
       " (31.0, 22.0, 1, 1, 0, 6),\n",
       " (33.0, 22.0, 2, 1, 0, 4),\n",
       " (0.0, 0.0, 1, 1, 0, 0),\n",
       " (0.0, 0.0, 0, 0, 0, 0),\n",
       " (37.0, 20.0, 2, 2, 0, 9),\n",
       " (38.0, 25.0, 0, 0, 0, 0),\n",
       " (0.0, 0.0, 1, 1, 0, 0),\n",
       " (34.0, 23.0, 1, 2, 7, 10),\n",
       " (0.0, 0.0, 0, 0, 0, 0),\n",
       " (0.0, 0.0, 0, 0, 0, 0),\n",
       " (0.0, 0.0, 0, 0, 0, 0),\n",
       " (34.0, 24.0, 0, 0, 0, 1),\n",
       " (0.0, 0.0, 1, 1, 0, 0),\n",
       " (30.0, 18.0, 1, 1, 0, 1),\n",
       " (0.0, 0.0, 0, 0, 0, 0),\n",
       " (34.0, 21.0, 1, 1, 6, 14),\n",
       " (27.0, 18.0, 0, 0, 1, 5),\n",
       " (0.0, 0.0, 1, 1, 0, 0),\n",
       " (0.0, 0.0, 0, 0, 0, 0),\n",
       " (23.0, 26.0, 0, 0, 0, 6),\n",
       " (0.0, 0.0, 0, 0, 0, 0),\n",
       " (0.0, 0.0, 0, 0, 0, 0),\n",
       " (0.0, 0.0, 0, 0, 0, 0),\n",
       " (33.0, 13.0, 1, 0, 9, 21),\n",
       " (0.0, 0.0, 0, 0, 0, 0),\n",
       " (28.0, 15.0, 0, 0, 0, 0),\n",
       " (37.0, 16.0, 0, 0, 0, 0),\n",
       " (28.0, 14.0, 0, 0, 0, 0),\n",
       " (19.0, 25.0, 0, 0, 0, 0),\n",
       " (33.0, 22.0, 0, 0, 0, 0),\n",
       " (37.0, 23.0, 2, 1, 4, 0),\n",
       " (0.0, 0.0, 1, 1, 0, 0),\n",
       " (44.0, 28.0, 1, 1, 0, 4),\n",
       " (33.0, 21.0, 1, 1, 0, 1),\n",
       " (0.0, 0.0, 0, 0, 0, 0),\n",
       " (0.0, 0.0, 0, 0, 0, 0),\n",
       " (27.0, 28.0, 3, 2, 0, 12),\n",
       " (0.0, 0.0, 3, 3, 0, 0),\n",
       " (0.0, 0.0, 0, 0, 0, 0),\n",
       " (0.0, 0.0, 0, 0, 0, 0),\n",
       " (34.0, 22.0, 2, 1, 37, 51),\n",
       " (28.0, 22.0, 0, 0, 0, 6),\n",
       " (29.0, 25.0, 0, 1, 19, 25),\n",
       " (27.0, 25.0, 1, 0, 22, 30),\n",
       " (0.0, 0.0, 0, 0, 0, 0),\n",
       " (0.0, 0.0, 0, 0, 0, 0),\n",
       " (43.0, 21.0, 1, 0, 34, 42),\n",
       " (36.0, 28.0, 0, 0, 0, 6),\n",
       " (0.0, 0.0, 0, 0, 0, 0),\n",
       " (38.0, 28.0, 2, 0, 27, 42),\n",
       " (0.0, 0.0, 0, 0, 0, 0),\n",
       " (33.0, 35.0, 0, 0, 2, 8),\n",
       " (28.0, 28.0, 0, 0, 0, 8),\n",
       " (38.0, 20.0, 1, 0, 15, 20),\n",
       " (34.0, 32.0, 0, 0, 0, 5),\n",
       " (35.0, 48.0, 1, 0, 11, 19),\n",
       " (37.0, 43.0, 1, 1, 0, 2),\n",
       " (40.0, 31.0, 2, 1, 0, 9),\n",
       " (43.0, 33.0, 0, 0, 0, 0),\n",
       " (24.0, 40.0, 0, 0, 0, 0),\n",
       " (0.0, 0.0, 1, 1, 0, 0),\n",
       " (37.0, 25.0, 1, 1, 0, 1),\n",
       " (0.0, 0.0, 0, 0, 0, 0),\n",
       " (41.0, 24.0, 2, 0, 0, 8),\n",
       " (31.0, 41.0, 1, 1, 0, 0),\n",
       " (31.0, 32.0, 2, 1, 0, 4),\n",
       " (27.0, 29.0, 0, 0, 0, 0),\n",
       " (0.0, 0.0, 1, 1, 0, 0),\n",
       " (25.0, 34.0, 1, 1, 0, 5),\n",
       " (35.0, 21.0, 1, 1, 0, 6),\n",
       " (0.0, 0.0, 0, 0, 0, 0),\n",
       " (0.0, 0.0, 0, 0, 0, 0),\n",
       " (19.0, 21.0, 0, 0, 0, 4),\n",
       " (34.0, 25.0, 0, 0, 0, 4),\n",
       " (20.0, 32.0, 0, 0, 0, 3),\n",
       " (37.0, 26.0, 3, 2, 5, 10),\n",
       " (22.0, 25.0, 1, 1, 0, 1),\n",
       " (0.0, 0.0, 1, 1, 0, 0),\n",
       " (22.0, 23.0, 1, 1, 0, 6),\n",
       " (0.0, 0.0, 1, 1, 0, 0),\n",
       " (0.0, 0.0, 1, 1, 0, 0),\n",
       " (0.0, 0.0, 0, 0, 0, 0),\n",
       " (27.0, 21.0, 0, 0, 0, 5),\n",
       " (37.0, 15.0, 0, 0, 0, 3),\n",
       " (33.0, 16.0, 0, 0, 0, 2),\n",
       " (0.0, 0.0, 0, 0, 0, 0),\n",
       " (26.0, 23.0, 0, 0, 0, 7),\n",
       " (32.0, 29.0, 1, 0, 0, 9),\n",
       " (24.0, 17.0, 1, 1, 0, 0),\n",
       " (40.0, 20.0, 1, 1, 0, 0),\n",
       " (26.0, 21.0, 0, 1, 4, 0),\n",
       " (33.0, 26.0, 2, 2, 0, 10),\n",
       " (0.0, 0.0, 1, 1, 0, 0),\n",
       " (0.0, 0.0, 2, 2, 0, 0),\n",
       " (0.0, 0.0, 0, 0, 0, 0),\n",
       " (21.0, 32.0, 2, 1, 11, 28),\n",
       " (37.0, 20.0, 1, 0, 0, 5),\n",
       " (36.0, 32.0, 1, 0, 4, 10),\n",
       " (22.0, 22.0, 2, 1, 0, 4),\n",
       " (43.0, 22.0, 0, 0, 0, 0),\n",
       " (0.0, 0.0, 2, 2, 0, 0),\n",
       " (32.0, 30.0, 0, 0, 0, 2),\n",
       " (0.0, 0.0, 3, 3, 0, 0),\n",
       " (41.0, 25.0, 1, 0, 0, 8),\n",
       " (0.0, 0.0, 0, 0, 0, 0),\n",
       " (39.0, 38.0, 0, 0, 0, 14),\n",
       " (35.0, 32.0, 1, 0, 1, 12),\n",
       " (41.0, 28.0, 0, 0, 1, 5),\n",
       " (41.0, 37.0, 1, 0, 0, 8),\n",
       " (0.0, 0.0, 0, 0, 0, 0),\n",
       " (38.0, 26.0, 1, 0, 7, 13),\n",
       " (28.0, 28.0, 1, 1, 0, 0),\n",
       " (28.0, 26.0, 1, 1, 0, 1),\n",
       " (28.0, 36.0, 2, 1, 0, 6),\n",
       " (38.0, 32.0, 0, 0, 0, 0),\n",
       " (36.0, 34.0, 0, 0, 0, 0),\n",
       " (22.0, 34.0, 0, 0, 0, 0),\n",
       " (27.0, 20.0, 0, 0, 0, 0),\n",
       " (29.0, 33.0, 0, 0, 0, 0),\n",
       " (30.0, 38.0, 0, 0, 0, 0),\n",
       " (36.0, 26.0, 0, 0, 0, 0),\n",
       " (41.0, 25.0, 0, 0, 0, 0),\n",
       " (0.0, 0.0, 1, 1, 0, 0),\n",
       " (35.0, 42.0, 1, 1, 0, 11),\n",
       " (0.0, 0.0, 1, 1, 0, 0),\n",
       " (19.0, 23.0, 1, 1, 2, 0),\n",
       " (35.0, 26.0, 1, 1, 1, 1),\n",
       " (34.0, 18.0, 1, 1, 0, 3),\n",
       " (33.0, 27.0, 1, 1, 0, 0),\n",
       " (29.0, 32.0, 2, 1, 0, 6),\n",
       " (31.0, 29.0, 0, 0, 0, 0),\n",
       " (44.0, 31.0, 2, 1, 4, 0),\n",
       " (0.0, 0.0, 1, 1, 0, 0),\n",
       " (0.0, 0.0, 1, 1, 0, 0),\n",
       " (0.0, 0.0, 1, 1, 0, 0),\n",
       " (0.0, 0.0, 0, 0, 0, 0),\n",
       " (34.0, 19.0, 0, 0, 0, 3),\n",
       " (0.0, 0.0, 0, 0, 0, 0),\n",
       " (36.0, 23.0, 0, 0, 0, 20),\n",
       " (30.0, 27.0, 0, 0, 0, 3),\n",
       " (31.0, 20.0, 1, 0, 0, 4),\n",
       " (0.0, 0.0, 1, 1, 0, 0),\n",
       " (0.0, 0.0, 0, 0, 0, 0),\n",
       " (0.0, 0.0, 2, 2, 0, 0),\n",
       " (0.0, 0.0, 0, 0, 0, 0),\n",
       " (43.0, 17.0, 0, 0, 1, 3),\n",
       " (28.0, 26.0, 2, 0, 4, 15),\n",
       " (0.0, 0.0, 0, 0, 0, 0),\n",
       " (22.0, 19.0, 1, 0, 0, 4),\n",
       " (35.0, 17.0, 1, 1, 0, 1),\n",
       " (28.0, 23.0, 1, 1, 0, 1),\n",
       " (24.0, 25.0, 1, 1, 0, 0),\n",
       " (0.0, 0.0, 0, 0, 0, 0),\n",
       " (0.0, 0.0, 0, 0, 0, 0),\n",
       " (23.0, 17.0, 0, 0, 0, 0),\n",
       " (0.0, 0.0, 0, 0, 0, 0),\n",
       " (26.0, 17.0, 0, 0, 0, 0),\n",
       " (0.0, 0.0, 0, 0, 0, 0),\n",
       " (0.0, 0.0, 0, 0, 0, 0),\n",
       " (0.0, 0.0, 1, 1, 0, 0),\n",
       " (36.0, 15.0, 1, 1, 0, 0),\n",
       " (0.0, 0.0, 0, 0, 0, 0),\n",
       " (24.0, 5.0, 0, 0, 0, 1),\n",
       " (24.0, 13.0, 0, 0, 0, 2),\n",
       " (0.0, 0.0, 0, 0, 0, 0),\n",
       " (24.0, 15.0, 0, 0, 0, 0),\n",
       " (29.0, 29.0, 0, 0, 0, 0),\n",
       " (42.0, 23.0, 0, 0, 0, 3),\n",
       " (27.0, 24.0, 1, 0, 0, 5),\n",
       " (27.0, 27.0, 2, 1, 0, 4),\n",
       " (35.0, 18.0, 0, 0, 0, 0),\n",
       " (28.0, 30.0, 0, 0, 0, 0),\n",
       " (0.0, 0.0, 0, 0, 0, 0),\n",
       " (31.0, 26.0, 0, 0, 0, 0)]"
      ]
     },
     "execution_count": 43,
     "metadata": {},
     "output_type": "execute_result"
    }
   ],
   "source": [
    "novelties"
   ]
  },
  {
   "cell_type": "code",
   "execution_count": 44,
   "metadata": {},
   "outputs": [
    {
     "data": {
      "text/plain": [
       "[]"
      ]
     },
     "execution_count": 44,
     "metadata": {},
     "output_type": "execute_result"
    }
   ],
   "source": [
    "blobs"
   ]
  },
  {
   "cell_type": "code",
   "execution_count": 45,
   "metadata": {
    "lines_to_next_cell": 2,
    "scrolled": true
   },
   "outputs": [
    {
     "ename": "ValueError",
     "evalue": "x and y must have same first dimension, but have shapes (1,) and (0,)",
     "output_type": "error",
     "traceback": [
      "\u001b[0;31m---------------------------------------------------------------------------\u001b[0m",
      "\u001b[0;31mValueError\u001b[0m                                Traceback (most recent call last)",
      "\u001b[0;32m<ipython-input-45-f063a78581fa>\u001b[0m in \u001b[0;36m<module>\u001b[0;34m\u001b[0m\n\u001b[1;32m      3\u001b[0m \u001b[0mfig\u001b[0m\u001b[0;34m,\u001b[0m \u001b[0max1\u001b[0m \u001b[0;34m=\u001b[0m \u001b[0mplt\u001b[0m\u001b[0;34m.\u001b[0m\u001b[0msubplots\u001b[0m\u001b[0;34m(\u001b[0m\u001b[0mfigsize\u001b[0m\u001b[0;34m=\u001b[0m\u001b[0;34m(\u001b[0m\u001b[0;36m14\u001b[0m\u001b[0;34m,\u001b[0m \u001b[0;36m7\u001b[0m\u001b[0;34m)\u001b[0m\u001b[0;34m)\u001b[0m\u001b[0;34m\u001b[0m\u001b[0;34m\u001b[0m\u001b[0m\n\u001b[1;32m      4\u001b[0m \u001b[0max1\u001b[0m\u001b[0;34m.\u001b[0m\u001b[0mplot\u001b[0m\u001b[0;34m(\u001b[0m\u001b[0mvalues\u001b[0m\u001b[0;34m,\u001b[0m \u001b[0mmarker\u001b[0m\u001b[0;34m=\u001b[0m\u001b[0;34m'o'\u001b[0m\u001b[0;34m,\u001b[0m \u001b[0mlinestyle\u001b[0m\u001b[0;34m=\u001b[0m\u001b[0;34m\"None\"\u001b[0m\u001b[0;34m,\u001b[0m \u001b[0mcolor\u001b[0m\u001b[0;34m=\u001b[0m\u001b[0;34m'blue'\u001b[0m\u001b[0;34m)\u001b[0m\u001b[0;34m\u001b[0m\u001b[0;34m\u001b[0m\u001b[0m\n\u001b[0;32m----> 5\u001b[0;31m \u001b[0max1\u001b[0m\u001b[0;34m.\u001b[0m\u001b[0mplot\u001b[0m\u001b[0;34m(\u001b[0m\u001b[0mmgen\u001b[0m\u001b[0;34m.\u001b[0m\u001b[0mblobs\u001b[0m\u001b[0;34m,\u001b[0m \u001b[0mvalues\u001b[0m\u001b[0;34m[\u001b[0m\u001b[0mblobs\u001b[0m\u001b[0;34m]\u001b[0m\u001b[0;34m,\u001b[0m \u001b[0mmarker\u001b[0m\u001b[0;34m=\u001b[0m\u001b[0;34m'o'\u001b[0m\u001b[0;34m,\u001b[0m \u001b[0mlinestyle\u001b[0m\u001b[0;34m=\u001b[0m\u001b[0;34m\"None\"\u001b[0m\u001b[0;34m,\u001b[0m \u001b[0mcolor\u001b[0m\u001b[0;34m=\u001b[0m\u001b[0;34m'red'\u001b[0m\u001b[0;34m)\u001b[0m\u001b[0;34m\u001b[0m\u001b[0;34m\u001b[0m\u001b[0m\n\u001b[0m\u001b[1;32m      6\u001b[0m \u001b[0max1\u001b[0m\u001b[0;34m.\u001b[0m\u001b[0mplot\u001b[0m\u001b[0;34m(\u001b[0m\u001b[0mmgen\u001b[0m\u001b[0;34m.\u001b[0m\u001b[0mlines\u001b[0m\u001b[0;34m,\u001b[0m \u001b[0mvalues\u001b[0m\u001b[0;34m[\u001b[0m\u001b[0mlines\u001b[0m\u001b[0;34m]\u001b[0m\u001b[0;34m,\u001b[0m \u001b[0mmarker\u001b[0m\u001b[0;34m=\u001b[0m\u001b[0;34m'o'\u001b[0m\u001b[0;34m,\u001b[0m \u001b[0mlinestyle\u001b[0m\u001b[0;34m=\u001b[0m\u001b[0;34m\"None\"\u001b[0m\u001b[0;34m,\u001b[0m \u001b[0mcolor\u001b[0m\u001b[0;34m=\u001b[0m\u001b[0;34m'yellow'\u001b[0m\u001b[0;34m)\u001b[0m\u001b[0;34m\u001b[0m\u001b[0;34m\u001b[0m\u001b[0m\n",
      "\u001b[0;32m~/anaconda3/lib/python3.8/site-packages/matplotlib/axes/_axes.py\u001b[0m in \u001b[0;36mplot\u001b[0;34m(self, scalex, scaley, data, *args, **kwargs)\u001b[0m\n\u001b[1;32m   1741\u001b[0m         \"\"\"\n\u001b[1;32m   1742\u001b[0m         \u001b[0mkwargs\u001b[0m \u001b[0;34m=\u001b[0m \u001b[0mcbook\u001b[0m\u001b[0;34m.\u001b[0m\u001b[0mnormalize_kwargs\u001b[0m\u001b[0;34m(\u001b[0m\u001b[0mkwargs\u001b[0m\u001b[0;34m,\u001b[0m \u001b[0mmlines\u001b[0m\u001b[0;34m.\u001b[0m\u001b[0mLine2D\u001b[0m\u001b[0;34m)\u001b[0m\u001b[0;34m\u001b[0m\u001b[0;34m\u001b[0m\u001b[0m\n\u001b[0;32m-> 1743\u001b[0;31m         \u001b[0mlines\u001b[0m \u001b[0;34m=\u001b[0m \u001b[0;34m[\u001b[0m\u001b[0;34m*\u001b[0m\u001b[0mself\u001b[0m\u001b[0;34m.\u001b[0m\u001b[0m_get_lines\u001b[0m\u001b[0;34m(\u001b[0m\u001b[0;34m*\u001b[0m\u001b[0margs\u001b[0m\u001b[0;34m,\u001b[0m \u001b[0mdata\u001b[0m\u001b[0;34m=\u001b[0m\u001b[0mdata\u001b[0m\u001b[0;34m,\u001b[0m \u001b[0;34m**\u001b[0m\u001b[0mkwargs\u001b[0m\u001b[0;34m)\u001b[0m\u001b[0;34m]\u001b[0m\u001b[0;34m\u001b[0m\u001b[0;34m\u001b[0m\u001b[0m\n\u001b[0m\u001b[1;32m   1744\u001b[0m         \u001b[0;32mfor\u001b[0m \u001b[0mline\u001b[0m \u001b[0;32min\u001b[0m \u001b[0mlines\u001b[0m\u001b[0;34m:\u001b[0m\u001b[0;34m\u001b[0m\u001b[0;34m\u001b[0m\u001b[0m\n\u001b[1;32m   1745\u001b[0m             \u001b[0mself\u001b[0m\u001b[0;34m.\u001b[0m\u001b[0madd_line\u001b[0m\u001b[0;34m(\u001b[0m\u001b[0mline\u001b[0m\u001b[0;34m)\u001b[0m\u001b[0;34m\u001b[0m\u001b[0;34m\u001b[0m\u001b[0m\n",
      "\u001b[0;32m~/anaconda3/lib/python3.8/site-packages/matplotlib/axes/_base.py\u001b[0m in \u001b[0;36m__call__\u001b[0;34m(self, data, *args, **kwargs)\u001b[0m\n\u001b[1;32m    271\u001b[0m                 \u001b[0mthis\u001b[0m \u001b[0;34m+=\u001b[0m \u001b[0margs\u001b[0m\u001b[0;34m[\u001b[0m\u001b[0;36m0\u001b[0m\u001b[0;34m]\u001b[0m\u001b[0;34m,\u001b[0m\u001b[0;34m\u001b[0m\u001b[0;34m\u001b[0m\u001b[0m\n\u001b[1;32m    272\u001b[0m                 \u001b[0margs\u001b[0m \u001b[0;34m=\u001b[0m \u001b[0margs\u001b[0m\u001b[0;34m[\u001b[0m\u001b[0;36m1\u001b[0m\u001b[0;34m:\u001b[0m\u001b[0;34m]\u001b[0m\u001b[0;34m\u001b[0m\u001b[0;34m\u001b[0m\u001b[0m\n\u001b[0;32m--> 273\u001b[0;31m             \u001b[0;32myield\u001b[0m \u001b[0;32mfrom\u001b[0m \u001b[0mself\u001b[0m\u001b[0;34m.\u001b[0m\u001b[0m_plot_args\u001b[0m\u001b[0;34m(\u001b[0m\u001b[0mthis\u001b[0m\u001b[0;34m,\u001b[0m \u001b[0mkwargs\u001b[0m\u001b[0;34m)\u001b[0m\u001b[0;34m\u001b[0m\u001b[0;34m\u001b[0m\u001b[0m\n\u001b[0m\u001b[1;32m    274\u001b[0m \u001b[0;34m\u001b[0m\u001b[0m\n\u001b[1;32m    275\u001b[0m     \u001b[0;32mdef\u001b[0m \u001b[0mget_next_color\u001b[0m\u001b[0;34m(\u001b[0m\u001b[0mself\u001b[0m\u001b[0;34m)\u001b[0m\u001b[0;34m:\u001b[0m\u001b[0;34m\u001b[0m\u001b[0;34m\u001b[0m\u001b[0m\n",
      "\u001b[0;32m~/anaconda3/lib/python3.8/site-packages/matplotlib/axes/_base.py\u001b[0m in \u001b[0;36m_plot_args\u001b[0;34m(self, tup, kwargs)\u001b[0m\n\u001b[1;32m    397\u001b[0m \u001b[0;34m\u001b[0m\u001b[0m\n\u001b[1;32m    398\u001b[0m         \u001b[0;32mif\u001b[0m \u001b[0mx\u001b[0m\u001b[0;34m.\u001b[0m\u001b[0mshape\u001b[0m\u001b[0;34m[\u001b[0m\u001b[0;36m0\u001b[0m\u001b[0;34m]\u001b[0m \u001b[0;34m!=\u001b[0m \u001b[0my\u001b[0m\u001b[0;34m.\u001b[0m\u001b[0mshape\u001b[0m\u001b[0;34m[\u001b[0m\u001b[0;36m0\u001b[0m\u001b[0;34m]\u001b[0m\u001b[0;34m:\u001b[0m\u001b[0;34m\u001b[0m\u001b[0;34m\u001b[0m\u001b[0m\n\u001b[0;32m--> 399\u001b[0;31m             raise ValueError(f\"x and y must have same first dimension, but \"\n\u001b[0m\u001b[1;32m    400\u001b[0m                              f\"have shapes {x.shape} and {y.shape}\")\n\u001b[1;32m    401\u001b[0m         \u001b[0;32mif\u001b[0m \u001b[0mx\u001b[0m\u001b[0;34m.\u001b[0m\u001b[0mndim\u001b[0m \u001b[0;34m>\u001b[0m \u001b[0;36m2\u001b[0m \u001b[0;32mor\u001b[0m \u001b[0my\u001b[0m\u001b[0;34m.\u001b[0m\u001b[0mndim\u001b[0m \u001b[0;34m>\u001b[0m \u001b[0;36m2\u001b[0m\u001b[0;34m:\u001b[0m\u001b[0;34m\u001b[0m\u001b[0;34m\u001b[0m\u001b[0m\n",
      "\u001b[0;31mValueError\u001b[0m: x and y must have same first dimension, but have shapes (1,) and (0,)"
     ]
    },
    {
     "data": {
      "image/png": "[encoded data removed]",
      "text/plain": [
       "<Figure size 1008x504 with 1 Axes>"
      ]
     },
     "metadata": {
      "needs_background": "light"
     },
     "output_type": "display_data"
    }
   ],
   "source": [
    "values = np.array(codisp_hist)\n",
    "index = np.array(range(len(codisp_hist)))\n",
    "fig, ax1 = plt.subplots(figsize=(14, 7))\n",
    "ax1.plot(values, marker='o', linestyle=\"None\", color='blue')\n",
    "ax1.plot(mgen.blobs, values[blobs], marker='o', linestyle=\"None\", color='red')\n",
    "ax1.plot(mgen.lines, values[lines], marker='o', linestyle=\"None\", color='yellow')"
   ]
  },
  {
   "cell_type": "code",
   "execution_count": 42,
   "metadata": {},
   "outputs": [
    {
     "data": {
      "text/plain": [
       "array([2.42      , 5.835     , 6.41      , 5.72      , 6.45      ,\n",
       "       6.015     , 2.44      , 5.92      , 3.93266667, 5.96      ,\n",
       "       5.315     , 6.65      , 2.361     , 5.895     , 6.365     ,\n",
       "       5.465     , 5.865     ])"
      ]
     },
     "execution_count": 42,
     "metadata": {},
     "output_type": "execute_result"
    }
   ],
   "source": [
    "values[blobs]"
   ]
  },
  {
   "cell_type": "code",
   "execution_count": null,
   "metadata": {},
   "outputs": [],
   "source": []
  },
  {
   "cell_type": "code",
   "execution_count": null,
   "metadata": {},
   "outputs": [],
   "source": []
  },
  {
   "cell_type": "code",
   "execution_count": null,
   "metadata": {},
   "outputs": [],
   "source": []
  },
  {
   "cell_type": "code",
   "execution_count": null,
   "metadata": {},
   "outputs": [],
   "source": []
  }
 ],
 "metadata": {
  "jupytext": {
   "formats": "ipynb,py:percent"
  },
  "kernelspec": {
   "display_name": "Python 3 (ipykernel)",
   "language": "python",
   "name": "python3"
  },
  "language_info": {
   "codemirror_mode": {
    "name": "ipython",
    "version": 3
   },
   "file_extension": ".py",
   "mimetype": "text/x-python",
   "name": "python",
   "nbconvert_exporter": "python",
   "pygments_lexer": "ipython3",
   "version": "3.9.12"
  }
 },
 "nbformat": 4,
 "nbformat_minor": 2
}
